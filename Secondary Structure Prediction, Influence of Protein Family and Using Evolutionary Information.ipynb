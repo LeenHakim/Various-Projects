{
 "cells": [
  {
   "cell_type": "markdown",
   "metadata": {},
   "source": [
    "# Advanced Methods in Bioinformatics \n",
    "\n",
    "## Secondary Structure Prediction, Influence of Protein Family and Using Evolutionary Information\n",
    "\n"
   ]
  },
  {
   "cell_type": "markdown",
   "metadata": {},
   "source": [
    "## Introduction\n",
    "In this assignment we are supposed to implement an algorithm to predict the secondary structure for the 498 proteins given in the Cath dataset, based on the stride and dssp sets that consist of the secondary structure for these proteins per residue. We are also supposed to predict the protein family for each protein based on the secondary structure predictions. For this assignment I will be implementing machine learning algorithms to see how well they can perform on such a problem. "
   ]
  },
  {
   "cell_type": "markdown",
   "metadata": {},
   "source": [
    "### Libraries "
   ]
  },
  {
   "cell_type": "code",
   "execution_count": 31,
   "metadata": {},
   "outputs": [],
   "source": [
    "import csv\n",
    "import pandas as pd\n",
    "import matplotlib.pyplot as plt\n",
    "import numpy as np\n",
    "from sklearn.preprocessing import OrdinalEncoder\n",
    "from sklearn.model_selection import train_test_split\n",
    "from sklearn.model_selection import cross_val_score\n",
    "from sklearn.model_selection import ShuffleSplit\n",
    "from sklearn.neighbors import KNeighborsClassifier\n",
    "from sklearn.ensemble import RandomForestClassifier\n",
    "from sklearn.metrics import confusion_matrix\n",
    "from sklearn.metrics import accuracy_score\n",
    "from sklearn.metrics import matthews_corrcoef\n",
    "from sklearn.neural_network import MLPClassifier as mlp\n",
    "from sklearn.model_selection import GridSearchCV\n",
    "from yellowbrick.classifier import ROCAUC\n",
    "#import xgboost as xgb\n",
    "#from imblearn.over_sampling import RandomOverSampler"
   ]
  },
  {
   "cell_type": "markdown",
   "metadata": {},
   "source": [
    "### Analyzing data\n",
    "Here I have imported the datasets and named the columns based on the description in the assignment. I have also visualized the targets in each dataset using histograms to check for inconsistencies, it is obvious that Coil has more instances in both dssp and stride, however, it is not a large difference. Although, I had to replace any existance of Other to Coil as descriped in the assignment.\n",
    "From cath histograms, we can see that Alpha/beta has slightly more instances than Alpha and Beta combined, therefore it's unbalanced."
   ]
  },
  {
   "cell_type": "code",
   "execution_count": 32,
   "metadata": {},
   "outputs": [
    {
     "data": {
      "image/png": "[encoded data removed]",
      "text/plain": [
       "<Figure size 432x288 with 1 Axes>"
      ]
     },
     "metadata": {
      "needs_background": "light"
     },
     "output_type": "display_data"
    },
    {
     "data": {
      "text/html": [
       "<div>\n",
       "<style scoped>\n",
       "    .dataframe tbody tr th:only-of-type {\n",
       "        vertical-align: middle;\n",
       "    }\n",
       "\n",
       "    .dataframe tbody tr th {\n",
       "        vertical-align: top;\n",
       "    }\n",
       "\n",
       "    .dataframe thead th {\n",
       "        text-align: right;\n",
       "    }\n",
       "</style>\n",
       "<table border=\"1\" class=\"dataframe\">\n",
       "  <thead>\n",
       "    <tr style=\"text-align: right;\">\n",
       "      <th></th>\n",
       "      <th>PDB_code</th>\n",
       "      <th>PDB_chain_code</th>\n",
       "      <th>PDB_seq_code</th>\n",
       "      <th>residue_name</th>\n",
       "      <th>secondary_structure</th>\n",
       "    </tr>\n",
       "  </thead>\n",
       "  <tbody>\n",
       "    <tr>\n",
       "      <td>0</td>\n",
       "      <td>1w0n</td>\n",
       "      <td>A</td>\n",
       "      <td>12</td>\n",
       "      <td>ILE</td>\n",
       "      <td>Coil</td>\n",
       "    </tr>\n",
       "    <tr>\n",
       "      <td>1</td>\n",
       "      <td>1w0n</td>\n",
       "      <td>A</td>\n",
       "      <td>13</td>\n",
       "      <td>THR</td>\n",
       "      <td>Beta</td>\n",
       "    </tr>\n",
       "    <tr>\n",
       "      <td>2</td>\n",
       "      <td>1w0n</td>\n",
       "      <td>A</td>\n",
       "      <td>14</td>\n",
       "      <td>LYS</td>\n",
       "      <td>Beta</td>\n",
       "    </tr>\n",
       "    <tr>\n",
       "      <td>3</td>\n",
       "      <td>1w0n</td>\n",
       "      <td>A</td>\n",
       "      <td>15</td>\n",
       "      <td>VAL</td>\n",
       "      <td>Beta</td>\n",
       "    </tr>\n",
       "    <tr>\n",
       "      <td>4</td>\n",
       "      <td>1w0n</td>\n",
       "      <td>A</td>\n",
       "      <td>16</td>\n",
       "      <td>GLU</td>\n",
       "      <td>Beta</td>\n",
       "    </tr>\n",
       "  </tbody>\n",
       "</table>\n",
       "</div>"
      ],
      "text/plain": [
       "  PDB_code PDB_chain_code  PDB_seq_code residue_name secondary_structure\n",
       "0     1w0n              A            12          ILE                Coil\n",
       "1     1w0n              A            13          THR                Beta\n",
       "2     1w0n              A            14          LYS                Beta\n",
       "3     1w0n              A            15          VAL                Beta\n",
       "4     1w0n              A            16          GLU                Beta"
      ]
     },
     "execution_count": 32,
     "metadata": {},
     "output_type": "execute_result"
    }
   ],
   "source": [
    "#DSSP load and naming columns\n",
    "dssp = pd.read_csv('dssp_info.txt', delimiter='\\t', \n",
    "                   names= ['PDB_code','PDB_chain_code','PDB_seq_code','residue_name','secondary_structure'])\n",
    "\n",
    "#replacing other by coil and dropping duplicates\n",
    "dssp= dssp.replace(\"Other\",\"Coil\")\n",
    "dssp = dssp.drop_duplicates()\n",
    "#plotting the secondary structures\n",
    "helix = dssp.loc[dssp['secondary_structure'] == 'Helix']\n",
    "beta = dssp.loc[dssp['secondary_structure'] == 'Beta']\n",
    "coil = dssp.loc[dssp['secondary_structure'] =='Coil']\n",
    "\n",
    "helix['secondary_structure'].hist()\n",
    "beta['secondary_structure'].hist()\n",
    "coil['secondary_structure'].hist()\n",
    "plt.xlabel('secondary_structure')\n",
    "plt.ylabel('number of instances')\n",
    "plt.title('DSSP dataset secondary structure')\n",
    "plt.show()\n",
    "\n",
    "#take a look at the first few rows of the dataset\n",
    "dssp.head()\n",
    "#dssp.info()"
   ]
  },
  {
   "cell_type": "code",
   "execution_count": 33,
   "metadata": {},
   "outputs": [
    {
     "data": {
      "image/png": "[encoded data removed]",
      "text/plain": [
       "<Figure size 432x288 with 1 Axes>"
      ]
     },
     "metadata": {
      "needs_background": "light"
     },
     "output_type": "display_data"
    },
    {
     "data": {
      "text/html": [
       "<div>\n",
       "<style scoped>\n",
       "    .dataframe tbody tr th:only-of-type {\n",
       "        vertical-align: middle;\n",
       "    }\n",
       "\n",
       "    .dataframe tbody tr th {\n",
       "        vertical-align: top;\n",
       "    }\n",
       "\n",
       "    .dataframe thead th {\n",
       "        text-align: right;\n",
       "    }\n",
       "</style>\n",
       "<table border=\"1\" class=\"dataframe\">\n",
       "  <thead>\n",
       "    <tr style=\"text-align: right;\">\n",
       "      <th></th>\n",
       "      <th>PDB_code</th>\n",
       "      <th>PDB_chain_code</th>\n",
       "      <th>PDB_seq_code</th>\n",
       "      <th>residue_name</th>\n",
       "      <th>secondary_structure</th>\n",
       "    </tr>\n",
       "  </thead>\n",
       "  <tbody>\n",
       "    <tr>\n",
       "      <td>0</td>\n",
       "      <td>1w0n</td>\n",
       "      <td>A</td>\n",
       "      <td>12</td>\n",
       "      <td>ILE</td>\n",
       "      <td>Coil</td>\n",
       "    </tr>\n",
       "    <tr>\n",
       "      <td>1</td>\n",
       "      <td>1w0n</td>\n",
       "      <td>A</td>\n",
       "      <td>13</td>\n",
       "      <td>THR</td>\n",
       "      <td>Beta</td>\n",
       "    </tr>\n",
       "    <tr>\n",
       "      <td>2</td>\n",
       "      <td>1w0n</td>\n",
       "      <td>A</td>\n",
       "      <td>14</td>\n",
       "      <td>LYS</td>\n",
       "      <td>Beta</td>\n",
       "    </tr>\n",
       "    <tr>\n",
       "      <td>3</td>\n",
       "      <td>1w0n</td>\n",
       "      <td>A</td>\n",
       "      <td>15</td>\n",
       "      <td>VAL</td>\n",
       "      <td>Beta</td>\n",
       "    </tr>\n",
       "    <tr>\n",
       "      <td>4</td>\n",
       "      <td>1w0n</td>\n",
       "      <td>A</td>\n",
       "      <td>16</td>\n",
       "      <td>GLU</td>\n",
       "      <td>Beta</td>\n",
       "    </tr>\n",
       "  </tbody>\n",
       "</table>\n",
       "</div>"
      ],
      "text/plain": [
       "  PDB_code PDB_chain_code  PDB_seq_code residue_name secondary_structure\n",
       "0     1w0n              A            12          ILE                Coil\n",
       "1     1w0n              A            13          THR                Beta\n",
       "2     1w0n              A            14          LYS                Beta\n",
       "3     1w0n              A            15          VAL                Beta\n",
       "4     1w0n              A            16          GLU                Beta"
      ]
     },
     "execution_count": 33,
     "metadata": {},
     "output_type": "execute_result"
    }
   ],
   "source": [
    "#Stride load and naming columns\n",
    "stride=pd.read_csv('stride_info.txt', delimiter='\\t', names= ['PDB_code','PDB_chain_code','PDB_seq_code','residue_name','secondary_structure'])\n",
    "#stride.info()\n",
    "\n",
    "#replace other by coil dropping duplicates\n",
    "stride= stride.replace(\"Other\",\"Coil\")\n",
    "stride= stride.drop_duplicates()\n",
    "#plotting based on the secondary structure \n",
    "helix = stride.loc[stride['secondary_structure'] == 'Helix']\n",
    "beta = stride.loc[stride['secondary_structure'] == 'Beta']\n",
    "coil = stride.loc[stride['secondary_structure'] == 'Coil']\n",
    "\n",
    "helix['secondary_structure'].hist()\n",
    "beta['secondary_structure'].hist()\n",
    "coil['secondary_structure'].hist()\n",
    "plt.xlabel('secondary_structure')\n",
    "plt.ylabel('number of instances')\n",
    "plt.title('Stride dataset secondary structure')\n",
    "plt.show()\n",
    "\n",
    "#taking a look at the first few rows\n",
    "stride.head()"
   ]
  },
  {
   "cell_type": "code",
   "execution_count": 34,
   "metadata": {
    "scrolled": false
   },
   "outputs": [
    {
     "data": {
      "image/png": "[encoded data removed]",
      "text/plain": [
       "<Figure size 432x288 with 1 Axes>"
      ]
     },
     "metadata": {
      "needs_background": "light"
     },
     "output_type": "display_data"
    },
    {
     "data": {
      "text/html": [
       "<div>\n",
       "<style scoped>\n",
       "    .dataframe tbody tr th:only-of-type {\n",
       "        vertical-align: middle;\n",
       "    }\n",
       "\n",
       "    .dataframe tbody tr th {\n",
       "        vertical-align: top;\n",
       "    }\n",
       "\n",
       "    .dataframe thead th {\n",
       "        text-align: right;\n",
       "    }\n",
       "</style>\n",
       "<table border=\"1\" class=\"dataframe\">\n",
       "  <thead>\n",
       "    <tr style=\"text-align: right;\">\n",
       "      <th></th>\n",
       "      <th>PDB_code</th>\n",
       "      <th>PDB_chain_code</th>\n",
       "      <th>protein_family</th>\n",
       "    </tr>\n",
       "  </thead>\n",
       "  <tbody>\n",
       "    <tr>\n",
       "      <td>0</td>\n",
       "      <td>1w0n</td>\n",
       "      <td>A</td>\n",
       "      <td>Beta</td>\n",
       "    </tr>\n",
       "    <tr>\n",
       "      <td>1</td>\n",
       "      <td>2gpi</td>\n",
       "      <td>A</td>\n",
       "      <td>Alpha/beta</td>\n",
       "    </tr>\n",
       "    <tr>\n",
       "      <td>2</td>\n",
       "      <td>1vbw</td>\n",
       "      <td>A</td>\n",
       "      <td>Alpha/beta</td>\n",
       "    </tr>\n",
       "    <tr>\n",
       "      <td>3</td>\n",
       "      <td>2odk</td>\n",
       "      <td>A</td>\n",
       "      <td>Alpha/beta</td>\n",
       "    </tr>\n",
       "    <tr>\n",
       "      <td>4</td>\n",
       "      <td>2zxy</td>\n",
       "      <td>A</td>\n",
       "      <td>Alpha</td>\n",
       "    </tr>\n",
       "  </tbody>\n",
       "</table>\n",
       "</div>"
      ],
      "text/plain": [
       "  PDB_code PDB_chain_code protein_family\n",
       "0     1w0n              A           Beta\n",
       "1     2gpi              A     Alpha/beta\n",
       "2     1vbw              A     Alpha/beta\n",
       "3     2odk              A     Alpha/beta\n",
       "4     2zxy              A          Alpha"
      ]
     },
     "execution_count": 34,
     "metadata": {},
     "output_type": "execute_result"
    }
   ],
   "source": [
    "#load cath dataset and name columns\n",
    "cath=pd.read_csv('cath_info.txt', delimiter='\\t', names= ['PDB_code','PDB_chain_code','protein_family'])\n",
    "#cath= cath.replace(\"None\",\"Beta\")\n",
    "\n",
    "#dropping duplicates\n",
    "cath= cath.drop_duplicates()\n",
    "\n",
    "#plotting based on the protein family\n",
    "alpha = cath.loc[cath['protein_family'] == 'Alpha']\n",
    "beta = cath.loc[cath['protein_family'] == 'Beta']\n",
    "alpha_beta = cath.loc[cath['protein_family'] == 'Alpha/beta']\n",
    "other = cath.loc[cath['protein_family'] == 'None']\n",
    "\n",
    "alpha['protein_family'].hist()\n",
    "beta['protein_family'].hist()\n",
    "alpha_beta['protein_family'].hist()\n",
    "other['protein_family'].hist()\n",
    "plt.xlabel('protein_family')\n",
    "plt.ylabel('number of instances')\n",
    "plt.title('Cath dataset protein family')\n",
    "plt.show()\n",
    "\n",
    "#taking a look at the first rows\n",
    "cath.head()\n"
   ]
  },
  {
   "cell_type": "markdown",
   "metadata": {},
   "source": [
    "### Data Preprocessing\n",
    "Before implementing machine learning algorithms the data should be formatted. Here, I have separated the classes (targets) which is the secondary structure from the datasets and then I had to encode the data in order for the algorithms to understand it since the data types were all objects. After encoding the secondary structures will be represented by numbers; 0 is for beta , 1 is for coil and 2 is for helix. The encoding of cath is represented by numbers as well, however, for the protein family 0 is for alpha, 1 is for alpha/beta, 2 is for beta and 3 is for none."
   ]
  },
  {
   "cell_type": "code",
   "execution_count": 35,
   "metadata": {},
   "outputs": [],
   "source": [
    "#split both dssp and stride for x and y where x is the data without the secondary structure and y is the secondary structure\n",
    "X_dssp= dssp.drop('secondary_structure', axis=1)\n",
    "y_dssp= pd.DataFrame(dssp['secondary_structure'])\n",
    "X_stride= stride.drop('secondary_structure', axis=1)\n",
    "y_stride= pd.DataFrame(stride['secondary_structure'])"
   ]
  },
  {
   "cell_type": "code",
   "execution_count": 36,
   "metadata": {},
   "outputs": [],
   "source": [
    "#encoding the the x and y from both dssp and stride\n",
    "encoder=OrdinalEncoder()\n",
    "encoder.fit(X_dssp)\n",
    "X_dssp_enc= encoder.transform(X_dssp)\n",
    "\n",
    "encoder.fit(y_dssp)\n",
    "y_dssp_enc= encoder.transform(y_dssp)\n",
    "#encoder.categories_\n",
    "\n",
    "encoder.fit(X_stride)\n",
    "X_stride_enc= encoder.transform(X_stride)\n",
    "\n",
    "encoder.fit(y_stride)\n",
    "y_stride_enc= encoder.transform(y_stride)\n",
    "\n",
    "#encoding cath dataset\n",
    "encoder.fit(cath)\n",
    "cath_enc= encoder.transform(cath)\n"
   ]
  },
  {
   "cell_type": "markdown",
   "metadata": {},
   "source": [
    "### Training Classifier\n",
    "I have tried to implement several algorithms to check which one will give the highest accuracy. K- Nearest Neighbors was the best that's why I have implemented it on both DSSP and Stride. Knn is an algorithm that is used for classification and regression problems, in this case it's classification. The algorithm classifies a data point based on how its neigbors are classified, it measures the distance from the new data to all other data that is already classified then it gets the k smaller distances, after that it checks the list of classes with the shortest distance and counts how many times each class appeared, the new data will be classified based on the class that appeared the most."
   ]
  },
  {
   "cell_type": "markdown",
   "metadata": {},
   "source": [
    "### DSSP\n",
    "First, I had to split the data into training and testing sets, my testing sets will be 33% of the whole datasets. After splitting, I have trained the knn with k=1 (I have tried k=3 and k=5 ,however, k=1 was the best). After getting predictions, I have applied cross validation with k=10, which means the dataset will be shuffled and splitted into 10 groups. One group will be held as a test set and the rest will be for training, then in my case the knn will be fitted on these 9 groups of training sets and evaluated on the remaining test set. The same will occure until we get 10 different scores. In the end I have checked the results for Q3 and MCC."
   ]
  },
  {
   "cell_type": "code",
   "execution_count": 37,
   "metadata": {},
   "outputs": [
    {
     "data": {
      "text/plain": [
       "array([0., 2., 2., ..., 0., 0., 1.])"
      ]
     },
     "execution_count": 37,
     "metadata": {},
     "output_type": "execute_result"
    }
   ],
   "source": [
    "# Split into training and test sets\n",
    "X_dssp_train, X_dssp_test, y_dssp_train, y_dssp_test = train_test_split(X_dssp_enc, y_dssp_enc, test_size=0.33, random_state=42)\n",
    "\n",
    "#applying knn classifier with k as 1\n",
    "clf = KNeighborsClassifier(n_neighbors=1)\n",
    "clf.fit(X_dssp_train,y_dssp_train.ravel())\n",
    "\n",
    "#predictions of knn\n",
    "dssp_predictions= clf.predict(X_dssp_test)\n",
    "dssp_predictions"
   ]
  },
  {
   "cell_type": "code",
   "execution_count": 38,
   "metadata": {
    "scrolled": true
   },
   "outputs": [
    {
     "name": "stdout",
     "output_type": "stream",
     "text": [
      "[0.51655348 0.52207131 0.49872666 0.50127334 0.51952462 0.49490662\n",
      " 0.52079796 0.51443124 0.52122241 0.51103565]\n",
      "confusion matrix:\n",
      "[[2456 1754 1074]\n",
      " [1800 6015 2345]\n",
      " [1024 2278 4814]]\n"
     ]
    }
   ],
   "source": [
    "#applying 10 fold cross validation\n",
    "cv = ShuffleSplit(n_splits=10)\n",
    "dssp_scores = cross_val_score(clf,X_dssp_test,y_dssp_test.ravel() , cv=cv)\n",
    "print(dssp_scores)\n",
    "\n",
    "#taking a look at the confusion matrix \n",
    "confusion= confusion_matrix(y_dssp_test.ravel(), dssp_predictions)\n",
    "print('confusion matrix:')\n",
    "print(confusion)\n",
    "#clf.classes_\n",
    "#0 -> beta \n",
    "#1 -> coil\n",
    "#2 -> helix"
   ]
  },
  {
   "cell_type": "code",
   "execution_count": 39,
   "metadata": {},
   "outputs": [
    {
     "name": "stdout",
     "output_type": "stream",
     "text": [
      "The Q3 score for Dssp: 0.563879\n",
      "The MCC score for Dssp: 0.324338 \n"
     ]
    }
   ],
   "source": [
    "# calculating Q3 and MCC scores\n",
    "print(\"The Q3 score for Dssp: %f\" % accuracy_score(y_dssp_test,dssp_predictions))\n",
    "print(\"The MCC score for Dssp: %f \" %matthews_corrcoef(y_dssp_test,dssp_predictions))\n"
   ]
  },
  {
   "cell_type": "code",
   "execution_count": 40,
   "metadata": {},
   "outputs": [
    {
     "name": "stderr",
     "output_type": "stream",
     "text": [
      "D:\\School\\python\\lib\\site-packages\\sklearn\\base.py:197: FutureWarning: From version 0.24, get_params will raise an AttributeError if a parameter cannot be retrieved as an instance attribute. Previously it would return None.\n",
      "  FutureWarning)\n"
     ]
    },
    {
     "data": {
      "image/png": "[encoded data removed]",
      "text/plain": [
       "<Figure size 432x288 with 1 Axes>"
      ]
     },
     "metadata": {
      "needs_background": "light"
     },
     "output_type": "display_data"
    },
    {
     "data": {
      "text/plain": [
       "<matplotlib.axes._subplots.AxesSubplot at 0x1dabb753dc8>"
      ]
     },
     "execution_count": 40,
     "metadata": {},
     "output_type": "execute_result"
    }
   ],
   "source": [
    "class_names= clf.classes_\n",
    "#instantiate the roc curve with the rf model\n",
    "visualizer = ROCAUC(clf, classes=class_names)\n",
    "#fitting training data to the roc curve\n",
    "visualizer.fit(X_dssp_train, y_dssp_train.ravel())  \n",
    "#evaluate the model on the test data\n",
    "visualizer.score(X_dssp_test, y_dssp_test.ravel())  \n",
    "visualizer.poof()"
   ]
  },
  {
   "cell_type": "markdown",
   "metadata": {},
   "source": [
    "### Stride\n",
    "Here, I have followed what I have done for DSSP, splitting the dataset into training and testing, applying knn with k=1 and cross validation with k=10. Lastly, I have checked the Q3 and MCC scores, we can see that stride has slightly better scores than dssp."
   ]
  },
  {
   "cell_type": "code",
   "execution_count": 52,
   "metadata": {},
   "outputs": [
    {
     "name": "stdout",
     "output_type": "stream",
     "text": [
      "[2. 2. 2. ... 1. 1. 2.]\n"
     ]
    }
   ],
   "source": [
    "# Split into training and test sets\n",
    "X_stride_train, X_stride_test, y_stride_train, y_stride_test = train_test_split(X_stride_enc, y_stride_enc, test_size=0.33, random_state=42)\n",
    "\n",
    "#applying knn classifier with k as 1\n",
    "clf = KNeighborsClassifier(n_neighbors=1)\n",
    "clf.fit(X_stride_train,y_stride_train.ravel())\n",
    "\n",
    "#predictions of knn\n",
    "stride_predictions= clf.predict(X_stride_test)\n",
    "print(stride_predictions)"
   ]
  },
  {
   "cell_type": "code",
   "execution_count": 53,
   "metadata": {},
   "outputs": [
    {
     "data": {
      "text/plain": [
       "array([0.5       , 0.50383632, 0.49957374, 0.50341006, 0.51321398,\n",
       "       0.52046036, 0.51875533, 0.50341006, 0.50895141, 0.52898551])"
      ]
     },
     "execution_count": 53,
     "metadata": {},
     "output_type": "execute_result"
    }
   ],
   "source": [
    "#applying 10 fold cross validation\n",
    "stride_scores = cross_val_score(clf,X_stride_test,y_stride_test.ravel() , cv=cv)\n",
    "stride_scores"
   ]
  },
  {
   "cell_type": "code",
   "execution_count": 54,
   "metadata": {},
   "outputs": [
    {
     "name": "stdout",
     "output_type": "stream",
     "text": [
      "The Q3 score for Stride: 0.570217\n",
      "The MCC score for Stride: 0.337140 \n"
     ]
    }
   ],
   "source": [
    "# calculating Q3 and MCC scores\n",
    "print(\"The Q3 score for Stride: %f\" % accuracy_score(y_stride_test,stride_predictions))\n",
    "print(\"The MCC score for Stride: %f \" %matthews_corrcoef(y_stride_test,stride_predictions))\n"
   ]
  },
  {
   "cell_type": "code",
   "execution_count": 55,
   "metadata": {},
   "outputs": [
    {
     "name": "stderr",
     "output_type": "stream",
     "text": [
      "D:\\School\\python\\lib\\site-packages\\sklearn\\base.py:197: FutureWarning: From version 0.24, get_params will raise an AttributeError if a parameter cannot be retrieved as an instance attribute. Previously it would return None.\n",
      "  FutureWarning)\n"
     ]
    },
    {
     "data": {
      "image/png": "[encoded data removed]",
      "text/plain": [
       "<Figure size 432x288 with 1 Axes>"
      ]
     },
     "metadata": {
      "needs_background": "light"
     },
     "output_type": "display_data"
    },
    {
     "data": {
      "text/plain": [
       "<matplotlib.axes._subplots.AxesSubplot at 0x1dab8f32f88>"
      ]
     },
     "execution_count": 55,
     "metadata": {},
     "output_type": "execute_result"
    }
   ],
   "source": [
    "#instantiate the roc curve with the rf model\n",
    "visualizer = ROCAUC(clf, classes=class_names)\n",
    "#fitting training data to the roc curve\n",
    "visualizer.fit(X_stride_train, y_stride_train.ravel())  \n",
    "#evaluate the model on the test data\n",
    "visualizer.score(X_stride_test, y_stride_test.ravel())  \n",
    "visualizer.poof()"
   ]
  },
  {
   "cell_type": "markdown",
   "metadata": {},
   "source": [
    "### Protein Family Prediction\n",
    "For this problem, I have decided to implement machine learning algorithms again on the secondary structure predictions and see how that works. First, I had to repredict secondary structures for both dssp and stride, however, this time I will predict on the x sets as a whole because I need to merge the results of predictions with the datasets which was not possible because the predictions were only on 33% of the dataset. After predicting on the whole datasets, I applied cross validation which now shows way better scores. After that, I have created a dataframe from the encoded cath set and renamed columns again for clarifications since all we can see now is float numbers. And for the new full predictions, I have merged them with the encoded x set which doesn't have the actual secondary structure. After that, I have created a dataframe from that set and renamed its columns, then I merged it with the new dataframe of cath. Then, I have split it into X and Y where Y is the protein family and X is the secondary structure prediction. And again I split them into training and testing sets, and tried different algorithms to see what's best, however, they were all performing strangely. For example, knn with k=1 gave a Q3 of 0.4 and MCC of -0.05, neural networks and random forest gave a Q3 of around 0.58 and an MCC of 0. Therefore, I've chosen random forest which is an ensemble model made up of many decision trees. I have tried to change its parameters using grid search to find the optimized combination of parameters however nothing changed. It seems to be generalizing since the cath dataset is not balanced and no matter what it gives the prediction of protein family as Alpha/beta since its 58% of the times accurate. Furthermore, I have tried to oversample and undersample the datasets, however, the results were worse since the algorithms started favoring the minority classes which are none or beta, in its best the Q3 score was around 0.2 and MCC score was 0.01. \n",
    "In the end, I have joined all secondary structure predictions with their correspondent PDB_Code for both Stride and Dssp."
   ]
  },
  {
   "cell_type": "markdown",
   "metadata": {},
   "source": [
    "### DSSP "
   ]
  },
  {
   "cell_type": "code",
   "execution_count": 56,
   "metadata": {},
   "outputs": [
    {
     "data": {
      "text/plain": [
       "array([0.72969188, 0.73123249, 0.72703081, 0.72521008, 0.72156863,\n",
       "       0.72773109, 0.71848739, 0.72661064, 0.73389356, 0.72997199])"
      ]
     },
     "execution_count": 56,
     "metadata": {},
     "output_type": "execute_result"
    }
   ],
   "source": [
    "#prediciting on the whole X using same knn \n",
    "pred = clf.predict(X_dssp_enc)\n",
    "#cross validation on the new x and y\n",
    "alldssp_scores = cross_val_score(clf,X_dssp_enc,pred.ravel() , cv=cv)\n",
    "alldssp_scores"
   ]
  },
  {
   "cell_type": "code",
   "execution_count": 57,
   "metadata": {
    "scrolled": true
   },
   "outputs": [],
   "source": [
    "#creating a dataframe for cath from the encoded cath and give each column their name \n",
    "enc_cathdf= pd.DataFrame.from_records(cath_enc)\n",
    "enc_cathdf= enc_cathdf.rename(columns={0: \"PDB_code\", 1: \"PDB_chain_code\",2:'protein_family'})"
   ]
  },
  {
   "cell_type": "code",
   "execution_count": 58,
   "metadata": {
    "scrolled": true
   },
   "outputs": [
    {
     "data": {
      "text/html": [
       "<div>\n",
       "<style scoped>\n",
       "    .dataframe tbody tr th:only-of-type {\n",
       "        vertical-align: middle;\n",
       "    }\n",
       "\n",
       "    .dataframe tbody tr th {\n",
       "        vertical-align: top;\n",
       "    }\n",
       "\n",
       "    .dataframe thead th {\n",
       "        text-align: right;\n",
       "    }\n",
       "</style>\n",
       "<table border=\"1\" class=\"dataframe\">\n",
       "  <thead>\n",
       "    <tr style=\"text-align: right;\">\n",
       "      <th></th>\n",
       "      <th>PDB_code</th>\n",
       "      <th>PDB_chain_code</th>\n",
       "      <th>PDB_seq_code</th>\n",
       "      <th>residue_name</th>\n",
       "      <th>secondary_structure_prediction</th>\n",
       "      <th>protein_family</th>\n",
       "    </tr>\n",
       "  </thead>\n",
       "  <tbody>\n",
       "    <tr>\n",
       "      <td>0</td>\n",
       "      <td>217.0</td>\n",
       "      <td>0.0</td>\n",
       "      <td>31.0</td>\n",
       "      <td>18.0</td>\n",
       "      <td>2.0</td>\n",
       "      <td>2.0</td>\n",
       "    </tr>\n",
       "    <tr>\n",
       "      <td>1</td>\n",
       "      <td>217.0</td>\n",
       "      <td>0.0</td>\n",
       "      <td>32.0</td>\n",
       "      <td>25.0</td>\n",
       "      <td>0.0</td>\n",
       "      <td>2.0</td>\n",
       "    </tr>\n",
       "    <tr>\n",
       "      <td>2</td>\n",
       "      <td>217.0</td>\n",
       "      <td>0.0</td>\n",
       "      <td>33.0</td>\n",
       "      <td>20.0</td>\n",
       "      <td>0.0</td>\n",
       "      <td>2.0</td>\n",
       "    </tr>\n",
       "    <tr>\n",
       "      <td>3</td>\n",
       "      <td>217.0</td>\n",
       "      <td>0.0</td>\n",
       "      <td>34.0</td>\n",
       "      <td>28.0</td>\n",
       "      <td>0.0</td>\n",
       "      <td>2.0</td>\n",
       "    </tr>\n",
       "    <tr>\n",
       "      <td>4</td>\n",
       "      <td>217.0</td>\n",
       "      <td>0.0</td>\n",
       "      <td>35.0</td>\n",
       "      <td>15.0</td>\n",
       "      <td>2.0</td>\n",
       "      <td>2.0</td>\n",
       "    </tr>\n",
       "  </tbody>\n",
       "</table>\n",
       "</div>"
      ],
      "text/plain": [
       "   PDB_code  PDB_chain_code  PDB_seq_code  residue_name  \\\n",
       "0     217.0             0.0          31.0          18.0   \n",
       "1     217.0             0.0          32.0          25.0   \n",
       "2     217.0             0.0          33.0          20.0   \n",
       "3     217.0             0.0          34.0          28.0   \n",
       "4     217.0             0.0          35.0          15.0   \n",
       "\n",
       "   secondary_structure_prediction  protein_family  \n",
       "0                             2.0             2.0  \n",
       "1                             0.0             2.0  \n",
       "2                             0.0             2.0  \n",
       "3                             0.0             2.0  \n",
       "4                             2.0             2.0  "
      ]
     },
     "execution_count": 58,
     "metadata": {},
     "output_type": "execute_result"
    }
   ],
   "source": [
    "#merging the new full predictions with the encoded dssp\n",
    "dssp_with_pred = np.column_stack([X_dssp_enc,pred]) \n",
    "dssp_with_pred\n",
    "##creating a dataframe for dssp from the encoded dssp and give each column their name \n",
    "enc_dssp_pred= pd.DataFrame.from_records(dssp_with_pred)\n",
    "enc_dssp_pred= enc_dssp_pred.rename(columns={0: \"PDB_code\", 1: \"PDB_chain_code\",2:'PDB_seq_code',3:'residue_name',4:'secondary_structure_prediction' })\n",
    "#merging dssp with cath\n",
    "dssp_cath=pd.merge(enc_dssp_pred,enc_cathdf ,how='outer')\n",
    "dssp_cath.head()"
   ]
  },
  {
   "cell_type": "code",
   "execution_count": 59,
   "metadata": {},
   "outputs": [],
   "source": [
    "#creating x and y for dssp_cath to predict protein family based on the ss prediction\n",
    "X_dssp_cath= pd.DataFrame(dssp_cath['secondary_structure_prediction'])\n",
    "y_dssp_cath= pd.DataFrame(dssp_cath['protein_family'])\n"
   ]
  },
  {
   "cell_type": "code",
   "execution_count": 61,
   "metadata": {},
   "outputs": [
    {
     "data": {
      "text/plain": [
       "array([1., 1., 1., ..., 1., 1., 1.])"
      ]
     },
     "execution_count": 61,
     "metadata": {},
     "output_type": "execute_result"
    }
   ],
   "source": [
    "# Split into training and test sets\n",
    "X_dssp_cath_train, X_dssp_cath_test, y_dssp_cath_train, y_dssp_cath_test = train_test_split(X_dssp_cath, \n",
    "y_dssp_cath, test_size=0.33, random_state=42)\n",
    "\n",
    "#training classifier\n",
    "clf2 = RandomForestClassifier()\n",
    "#clf3= KNeighborsClassifier(n_neighbors=1)\n",
    "#net = mlp(hidden_layer_sizes=(500,), activation='tanh', alpha = 0.001, solver='lbfgs', max_iter=2000)\n",
    "clf2.fit(X_dssp_cath_train,y_dssp_cath_train.values.ravel())\n",
    "\n",
    "#predictions of random forest\n",
    "dssp_cath_predictions= clf2.predict(X_dssp_cath_test)\n",
    "dssp_cath_predictions"
   ]
  },
  {
   "cell_type": "code",
   "execution_count": 62,
   "metadata": {},
   "outputs": [
    {
     "data": {
      "text/plain": [
       "array([0.58234295, 0.57937182, 0.59677419, 0.5827674 , 0.58149406,\n",
       "       0.57682513, 0.60101868, 0.5844652 , 0.58998302, 0.59295416])"
      ]
     },
     "execution_count": 62,
     "metadata": {},
     "output_type": "execute_result"
    }
   ],
   "source": [
    "#10 fold cross validation on random forest\n",
    "cath_dssp_scores = cross_val_score(clf2,X_dssp_cath_test,y_dssp_cath_test.values.ravel() , cv=cv)\n",
    "cath_dssp_scores"
   ]
  },
  {
   "cell_type": "code",
   "execution_count": 103,
   "metadata": {},
   "outputs": [
    {
     "name": "stdout",
     "output_type": "stream",
     "text": [
      "Fitting 3 folds for each of 27 candidates, totalling 81 fits\n"
     ]
    },
    {
     "name": "stderr",
     "output_type": "stream",
     "text": [
      "[Parallel(n_jobs=-1)]: Using backend LokyBackend with 8 concurrent workers.\n",
      "[Parallel(n_jobs=-1)]: Done  25 tasks      | elapsed:   25.9s\n",
      "[Parallel(n_jobs=-1)]: Done  81 out of  81 | elapsed:  1.2min finished\n"
     ]
    },
    {
     "name": "stdout",
     "output_type": "stream",
     "text": [
      "RandomForestClassifier(bootstrap=True, ccp_alpha=0.0, class_weight=None,\n",
      "                       criterion='gini', max_depth=90, max_features='auto',\n",
      "                       max_leaf_nodes=None, max_samples=None,\n",
      "                       min_impurity_decrease=0.0, min_impurity_split=None,\n",
      "                       min_samples_leaf=1, min_samples_split=10,\n",
      "                       min_weight_fraction_leaf=0.0, n_estimators=1000,\n",
      "                       n_jobs=None, oob_score=False, random_state=None,\n",
      "                       verbose=0, warm_start=False)\n"
     ]
    },
    {
     "data": {
      "text/plain": [
       "{'max_depth': 90, 'min_samples_split': 10, 'n_estimators': 1000}"
      ]
     },
     "execution_count": 103,
     "metadata": {},
     "output_type": "execute_result"
    }
   ],
   "source": [
    "#param_grid has all parameters that gridSearch will be using to choose the best combination which gives the best random forest\n",
    "param_grid = {\n",
    "    'max_depth': [80, 90, 100],\n",
    "    'min_samples_split': [8,10,12],\n",
    "    'n_estimators': [100, 500, 1000]\n",
    "}    \n",
    "grid_search = GridSearchCV(estimator = clf2, param_grid = param_grid, cv = 3, n_jobs = -1, verbose = 2)\n",
    "grid_search.fit(X_dssp_cath_train,y_dssp_cath_train.values.ravel())\n",
    "bestParam= grid_search.best_params_\n",
    "best_forest = grid_search.best_estimator_\n",
    "print(best_forest)\n",
    "bestParam"
   ]
  },
  {
   "cell_type": "code",
   "execution_count": 63,
   "metadata": {},
   "outputs": [
    {
     "data": {
      "text/plain": [
       "array([1., 1., 1., ..., 1., 1., 1.])"
      ]
     },
     "execution_count": 63,
     "metadata": {},
     "output_type": "execute_result"
    }
   ],
   "source": [
    "#applying random forest after grid search result\n",
    "clf2 = RandomForestClassifier(bootstrap=True, ccp_alpha=0.0, class_weight=None,\n",
    "                       criterion='gini', max_depth=90, max_features='auto',\n",
    "                       max_leaf_nodes=None, max_samples=None,\n",
    "                       min_impurity_decrease=0.0, min_impurity_split=None,\n",
    "                       min_samples_leaf=1, min_samples_split=10,\n",
    "                       min_weight_fraction_leaf=0.0, n_estimators=1000,\n",
    "                       n_jobs=None, oob_score=False, random_state=None,\n",
    "                       verbose=0, warm_start=False)\n",
    "#clf3= KNeighborsClassifier(n_neighbors=1)\n",
    "#net = mlp(hidden_layer_sizes=(500,), activation='tanh', alpha = 0.001, solver='lbfgs', max_iter=2000)\n",
    "\n",
    "clf2.fit(X_dssp_cath_train,y_dssp_cath_train.values.ravel())\n",
    "\n",
    "#predictions of random forest based on the whole x of dssp and cath\n",
    "dssp_cath_predictions= clf2.predict(X_dssp_cath)\n",
    "dssp_cath_predictions"
   ]
  },
  {
   "cell_type": "code",
   "execution_count": 64,
   "metadata": {},
   "outputs": [
    {
     "name": "stdout",
     "output_type": "stream",
     "text": [
      "The Q3 score for Dssp Protein family prediction: 0.582496\n",
      "The MCC score for Dssp Protein family prediction: 0.000000 \n"
     ]
    },
    {
     "name": "stderr",
     "output_type": "stream",
     "text": [
      "D:\\School\\python\\lib\\site-packages\\sklearn\\metrics\\_classification.py:900: RuntimeWarning: invalid value encountered in double_scalars\n",
      "  mcc = cov_ytyp / np.sqrt(cov_ytyt * cov_ypyp)\n"
     ]
    }
   ],
   "source": [
    "# calculating Q3 and MCC scores\n",
    "print(\"The Q3 score for Dssp Protein family prediction: %f\" % accuracy_score(y_dssp_cath,dssp_cath_predictions))\n",
    "print(\"The MCC score for Dssp Protein family prediction: %f \" %matthews_corrcoef(y_dssp_cath,dssp_cath_predictions))"
   ]
  },
  {
   "cell_type": "code",
   "execution_count": 65,
   "metadata": {},
   "outputs": [
    {
     "data": {
      "text/html": [
       "<div>\n",
       "<style scoped>\n",
       "    .dataframe tbody tr th:only-of-type {\n",
       "        vertical-align: middle;\n",
       "    }\n",
       "\n",
       "    .dataframe tbody tr th {\n",
       "        vertical-align: top;\n",
       "    }\n",
       "\n",
       "    .dataframe thead th {\n",
       "        text-align: right;\n",
       "    }\n",
       "</style>\n",
       "<table border=\"1\" class=\"dataframe\">\n",
       "  <thead>\n",
       "    <tr style=\"text-align: right;\">\n",
       "      <th></th>\n",
       "      <th>secondary_structure_prediction</th>\n",
       "    </tr>\n",
       "    <tr>\n",
       "      <th>PDB_code</th>\n",
       "      <th></th>\n",
       "    </tr>\n",
       "  </thead>\n",
       "  <tbody>\n",
       "    <tr>\n",
       "      <td>217.0</td>\n",
       "      <td>2.0, 0.0, 0.0, 0.0, 2.0, 2.0, 2.0, 1.0, 0.0, 2...</td>\n",
       "    </tr>\n",
       "    <tr>\n",
       "      <td>304.0</td>\n",
       "      <td>1.0, 1.0, 1.0, 1.0, 0.0, 1.0, 1.0, 1.0, 1.0, 1...</td>\n",
       "    </tr>\n",
       "    <tr>\n",
       "      <td>207.0</td>\n",
       "      <td>1.0, 1.0, 1.0, 1.0, 0.0, 2.0, 2.0, 2.0, 2.0, 2...</td>\n",
       "    </tr>\n",
       "    <tr>\n",
       "      <td>336.0</td>\n",
       "      <td>2.0, 0.0, 0.0, 0.0, 2.0, 2.0, 1.0, 2.0, 2.0, 0...</td>\n",
       "    </tr>\n",
       "    <tr>\n",
       "      <td>404.0</td>\n",
       "      <td>1.0, 0.0, 1.0, 0.0, 0.0, 0.0, 1.0, 2.0, 2.0, 0...</td>\n",
       "    </tr>\n",
       "  </tbody>\n",
       "</table>\n",
       "</div>"
      ],
      "text/plain": [
       "                             secondary_structure_prediction\n",
       "PDB_code                                                   \n",
       "217.0     2.0, 0.0, 0.0, 0.0, 2.0, 2.0, 2.0, 1.0, 0.0, 2...\n",
       "304.0     1.0, 1.0, 1.0, 1.0, 0.0, 1.0, 1.0, 1.0, 1.0, 1...\n",
       "207.0     1.0, 1.0, 1.0, 1.0, 0.0, 2.0, 2.0, 2.0, 2.0, 2...\n",
       "336.0     2.0, 0.0, 0.0, 0.0, 2.0, 2.0, 1.0, 2.0, 2.0, 0...\n",
       "404.0     1.0, 0.0, 1.0, 0.0, 0.0, 0.0, 1.0, 2.0, 2.0, 0..."
      ]
     },
     "execution_count": 65,
     "metadata": {},
     "output_type": "execute_result"
    }
   ],
   "source": [
    "#joining all ss predictions for dssp and grouping them by pdb_code\n",
    "enc_dssp_pred['secondary_structure_prediction'] = enc_dssp_pred['secondary_structure_prediction'].astype(str)\n",
    "dssp_final_predictions=enc_dssp_pred.reset_index().groupby('PDB_code',sort=False).agg({ 'secondary_structure_prediction': lambda x: ', '.join(x)})\n",
    "dssp_final_predictions.head()\n",
    "#dssp_final_predictions.to_csv(\"dssp_final_predictions.csv\", index=True)"
   ]
  },
  {
   "cell_type": "code",
   "execution_count": 66,
   "metadata": {},
   "outputs": [
    {
     "name": "stderr",
     "output_type": "stream",
     "text": [
      "D:\\School\\python\\lib\\site-packages\\sklearn\\base.py:197: FutureWarning: From version 0.24, get_params will raise an AttributeError if a parameter cannot be retrieved as an instance attribute. Previously it would return None.\n",
      "  FutureWarning)\n"
     ]
    },
    {
     "data": {
      "image/png": "[encoded data removed]",
      "text/plain": [
       "<Figure size 432x288 with 1 Axes>"
      ]
     },
     "metadata": {
      "needs_background": "light"
     },
     "output_type": "display_data"
    },
    {
     "data": {
      "text/plain": [
       "<matplotlib.axes._subplots.AxesSubplot at 0x1dabad56a88>"
      ]
     },
     "execution_count": 66,
     "metadata": {},
     "output_type": "execute_result"
    }
   ],
   "source": [
    "class_names= clf2.classes_\n",
    "#instantiate the roc curve with the rf model\n",
    "visualizer = ROCAUC(clf2, classes=class_names)\n",
    "#fitting training data to the roc curve\n",
    "visualizer.fit(X_dssp_cath_train, y_dssp_cath_train.values.ravel())  \n",
    "#evaluate the model on the test data\n",
    "visualizer.score(X_dssp_cath_test, y_dssp_cath_test)  \n",
    "visualizer.poof() "
   ]
  },
  {
   "cell_type": "markdown",
   "metadata": {},
   "source": [
    "### Stride"
   ]
  },
  {
   "cell_type": "code",
   "execution_count": 67,
   "metadata": {},
   "outputs": [
    {
     "data": {
      "text/plain": [
       "array([0.72917839, 0.72087788, 0.721722  , 0.73002251, 0.72495779,\n",
       "       0.72326956, 0.71876759, 0.72819358, 0.72847496, 0.72439505])"
      ]
     },
     "execution_count": 67,
     "metadata": {},
     "output_type": "execute_result"
    }
   ],
   "source": [
    "#prediciting on the whole X using same knn \n",
    "pred2 = clf.predict(X_stride_enc)\n",
    "#cross validation on the new x and y\n",
    "allStride_scores = cross_val_score(clf,X_stride_enc,pred2.ravel() , cv=cv)\n",
    "allStride_scores"
   ]
  },
  {
   "cell_type": "code",
   "execution_count": 68,
   "metadata": {},
   "outputs": [
    {
     "data": {
      "text/html": [
       "<div>\n",
       "<style scoped>\n",
       "    .dataframe tbody tr th:only-of-type {\n",
       "        vertical-align: middle;\n",
       "    }\n",
       "\n",
       "    .dataframe tbody tr th {\n",
       "        vertical-align: top;\n",
       "    }\n",
       "\n",
       "    .dataframe thead th {\n",
       "        text-align: right;\n",
       "    }\n",
       "</style>\n",
       "<table border=\"1\" class=\"dataframe\">\n",
       "  <thead>\n",
       "    <tr style=\"text-align: right;\">\n",
       "      <th></th>\n",
       "      <th>PDB_code</th>\n",
       "      <th>PDB_chain_code</th>\n",
       "      <th>PDB_seq_code</th>\n",
       "      <th>residue_name</th>\n",
       "      <th>secondary_structure_prediction</th>\n",
       "      <th>protein_family</th>\n",
       "    </tr>\n",
       "  </thead>\n",
       "  <tbody>\n",
       "    <tr>\n",
       "      <td>0</td>\n",
       "      <td>217.0</td>\n",
       "      <td>0.0</td>\n",
       "      <td>31.0</td>\n",
       "      <td>9.0</td>\n",
       "      <td>1.0</td>\n",
       "      <td>2.0</td>\n",
       "    </tr>\n",
       "    <tr>\n",
       "      <td>1</td>\n",
       "      <td>217.0</td>\n",
       "      <td>0.0</td>\n",
       "      <td>32.0</td>\n",
       "      <td>16.0</td>\n",
       "      <td>0.0</td>\n",
       "      <td>2.0</td>\n",
       "    </tr>\n",
       "    <tr>\n",
       "      <td>2</td>\n",
       "      <td>217.0</td>\n",
       "      <td>0.0</td>\n",
       "      <td>33.0</td>\n",
       "      <td>11.0</td>\n",
       "      <td>0.0</td>\n",
       "      <td>2.0</td>\n",
       "    </tr>\n",
       "    <tr>\n",
       "      <td>3</td>\n",
       "      <td>217.0</td>\n",
       "      <td>0.0</td>\n",
       "      <td>34.0</td>\n",
       "      <td>20.0</td>\n",
       "      <td>0.0</td>\n",
       "      <td>2.0</td>\n",
       "    </tr>\n",
       "    <tr>\n",
       "      <td>4</td>\n",
       "      <td>217.0</td>\n",
       "      <td>0.0</td>\n",
       "      <td>35.0</td>\n",
       "      <td>6.0</td>\n",
       "      <td>2.0</td>\n",
       "      <td>2.0</td>\n",
       "    </tr>\n",
       "  </tbody>\n",
       "</table>\n",
       "</div>"
      ],
      "text/plain": [
       "   PDB_code  PDB_chain_code  PDB_seq_code  residue_name  \\\n",
       "0     217.0             0.0          31.0           9.0   \n",
       "1     217.0             0.0          32.0          16.0   \n",
       "2     217.0             0.0          33.0          11.0   \n",
       "3     217.0             0.0          34.0          20.0   \n",
       "4     217.0             0.0          35.0           6.0   \n",
       "\n",
       "   secondary_structure_prediction  protein_family  \n",
       "0                             1.0             2.0  \n",
       "1                             0.0             2.0  \n",
       "2                             0.0             2.0  \n",
       "3                             0.0             2.0  \n",
       "4                             2.0             2.0  "
      ]
     },
     "execution_count": 68,
     "metadata": {},
     "output_type": "execute_result"
    }
   ],
   "source": [
    "#merging the new full predictions with the encoded stride\n",
    "stride_with_pred = np.column_stack([X_stride_enc,pred2]) \n",
    "stride_with_pred\n",
    "##creating a dataframe for dssp from the encoded dssp and give each column their name \n",
    "enc_stride_pred= pd.DataFrame.from_records(stride_with_pred)\n",
    "enc_stride_pred= enc_stride_pred.rename(columns={0: \"PDB_code\", 1: \"PDB_chain_code\",2:'PDB_seq_code',3:'residue_name',4:'secondary_structure_prediction' })\n",
    "#merging dssp with cath\n",
    "stride_cath=pd.merge(enc_stride_pred,enc_cathdf ,how='outer')\n",
    "stride_cath.head()"
   ]
  },
  {
   "cell_type": "code",
   "execution_count": 69,
   "metadata": {},
   "outputs": [],
   "source": [
    "#creating x and y for stride_cath to predict protein family based on the ss prediction\n",
    "X_stride_cath= pd.DataFrame(stride_cath['secondary_structure_prediction'])\n",
    "y_stride_cath= pd.DataFrame(stride_cath['protein_family'])\n"
   ]
  },
  {
   "cell_type": "code",
   "execution_count": 70,
   "metadata": {},
   "outputs": [
    {
     "data": {
      "text/plain": [
       "array([1., 1., 1., ..., 1., 1., 1.])"
      ]
     },
     "execution_count": 70,
     "metadata": {},
     "output_type": "execute_result"
    }
   ],
   "source": [
    "# Split into training and test sets\n",
    "X_stride_cath_train, X_stride_cath_test, y_stride_cath_train, y_stride_cath_test = train_test_split(X_stride_cath, \n",
    "y_stride_cath, test_size=0.33, random_state=42)\n",
    "\n",
    "#training classifier\n",
    "clf2 = RandomForestClassifier()\n",
    "#clf3= KNeighborsClassifier(n_neighbors=1)\n",
    "#net = mlp(hidden_layer_sizes=(500,), activation='tanh', alpha = 0.001, solver='lbfgs', max_iter=2000)\n",
    "clf2.fit(X_stride_cath_train,y_stride_cath_train.values.ravel())\n",
    "\n",
    "#predictions of random forest\n",
    "stride_cath_predictions= clf2.predict(X_stride_cath_test)\n",
    "stride_cath_predictions"
   ]
  },
  {
   "cell_type": "code",
   "execution_count": 71,
   "metadata": {},
   "outputs": [
    {
     "data": {
      "text/plain": [
       "array([0.5771526 , 0.56820119, 0.57800512, 0.57033248, 0.58098892,\n",
       "       0.56436488, 0.5831202 , 0.58184143, 0.57971014, 0.57971014])"
      ]
     },
     "execution_count": 71,
     "metadata": {},
     "output_type": "execute_result"
    }
   ],
   "source": [
    "#10 fold cross validation on random forest\n",
    "cath_stride_scores = cross_val_score(clf2,X_stride_cath_test,y_stride_cath_test.values.ravel() , cv=cv)\n",
    "cath_stride_scores"
   ]
  },
  {
   "cell_type": "code",
   "execution_count": 72,
   "metadata": {},
   "outputs": [
    {
     "data": {
      "text/plain": [
       "array([1., 1., 1., ..., 1., 1., 1.])"
      ]
     },
     "execution_count": 72,
     "metadata": {},
     "output_type": "execute_result"
    }
   ],
   "source": [
    "#predictions of random forest based on the whole x of stride and cath\n",
    "stride_cath_predictions= clf2.predict(X_stride_cath)\n",
    "#np.savetxt(\"stride_cath_predictions.csv\", stride_cath_predictions, delimiter=\",\")\n",
    "stride_cath_predictions"
   ]
  },
  {
   "cell_type": "code",
   "execution_count": 73,
   "metadata": {},
   "outputs": [
    {
     "name": "stdout",
     "output_type": "stream",
     "text": [
      "The Q3 score for Stride Protein family prediction: 0.582340\n",
      "The MCC score for Stride Protein family prediction: 0.000000 \n"
     ]
    },
    {
     "name": "stderr",
     "output_type": "stream",
     "text": [
      "D:\\School\\python\\lib\\site-packages\\sklearn\\metrics\\_classification.py:900: RuntimeWarning: invalid value encountered in double_scalars\n",
      "  mcc = cov_ytyp / np.sqrt(cov_ytyt * cov_ypyp)\n"
     ]
    }
   ],
   "source": [
    "# calculating Q3 and MCC scores\n",
    "print(\"The Q3 score for Stride Protein family prediction: %f\" % accuracy_score(y_stride_cath,stride_cath_predictions))\n",
    "print(\"The MCC score for Stride Protein family prediction: %f \" %matthews_corrcoef(y_stride_cath,stride_cath_predictions))"
   ]
  },
  {
   "cell_type": "code",
   "execution_count": 74,
   "metadata": {},
   "outputs": [
    {
     "data": {
      "text/html": [
       "<div>\n",
       "<style scoped>\n",
       "    .dataframe tbody tr th:only-of-type {\n",
       "        vertical-align: middle;\n",
       "    }\n",
       "\n",
       "    .dataframe tbody tr th {\n",
       "        vertical-align: top;\n",
       "    }\n",
       "\n",
       "    .dataframe thead th {\n",
       "        text-align: right;\n",
       "    }\n",
       "</style>\n",
       "<table border=\"1\" class=\"dataframe\">\n",
       "  <thead>\n",
       "    <tr style=\"text-align: right;\">\n",
       "      <th></th>\n",
       "      <th>secondary_structure_prediction</th>\n",
       "    </tr>\n",
       "    <tr>\n",
       "      <th>PDB_code</th>\n",
       "      <th></th>\n",
       "    </tr>\n",
       "  </thead>\n",
       "  <tbody>\n",
       "    <tr>\n",
       "      <td>217.0</td>\n",
       "      <td>1.0, 0.0, 0.0, 0.0, 2.0, 1.0, 2.0, 1.0, 1.0, 0...</td>\n",
       "    </tr>\n",
       "    <tr>\n",
       "      <td>304.0</td>\n",
       "      <td>1.0, 1.0, 1.0, 1.0, 0.0, 0.0, 0.0, 1.0, 2.0, 1...</td>\n",
       "    </tr>\n",
       "    <tr>\n",
       "      <td>207.0</td>\n",
       "      <td>1.0, 1.0, 1.0, 1.0, 1.0, 1.0, 1.0, 1.0, 1.0, 1...</td>\n",
       "    </tr>\n",
       "    <tr>\n",
       "      <td>336.0</td>\n",
       "      <td>0.0, 0.0, 0.0, 0.0, 2.0, 2.0, 2.0, 2.0, 2.0, 2...</td>\n",
       "    </tr>\n",
       "    <tr>\n",
       "      <td>404.0</td>\n",
       "      <td>1.0, 1.0, 2.0, 0.0, 2.0, 0.0, 2.0, 2.0, 2.0, 2...</td>\n",
       "    </tr>\n",
       "  </tbody>\n",
       "</table>\n",
       "</div>"
      ],
      "text/plain": [
       "                             secondary_structure_prediction\n",
       "PDB_code                                                   \n",
       "217.0     1.0, 0.0, 0.0, 0.0, 2.0, 1.0, 2.0, 1.0, 1.0, 0...\n",
       "304.0     1.0, 1.0, 1.0, 1.0, 0.0, 0.0, 0.0, 1.0, 2.0, 1...\n",
       "207.0     1.0, 1.0, 1.0, 1.0, 1.0, 1.0, 1.0, 1.0, 1.0, 1...\n",
       "336.0     0.0, 0.0, 0.0, 0.0, 2.0, 2.0, 2.0, 2.0, 2.0, 2...\n",
       "404.0     1.0, 1.0, 2.0, 0.0, 2.0, 0.0, 2.0, 2.0, 2.0, 2..."
      ]
     },
     "execution_count": 74,
     "metadata": {},
     "output_type": "execute_result"
    }
   ],
   "source": [
    "#joining all ss predictions for stride and grouping them by pdb_code\n",
    "stride_cath['secondary_structure_prediction'] = stride_cath['secondary_structure_prediction'].astype(str)\n",
    "stride_final_predictions=stride_cath.reset_index().groupby('PDB_code',sort=False).agg({ 'secondary_structure_prediction': lambda x: ', '.join(x)})\n",
    "stride_final_predictions.head()\n",
    "#stride_final_predictions.to_csv(\"stride_final_predictions.csv\", index=True)"
   ]
  },
  {
   "cell_type": "code",
   "execution_count": 76,
   "metadata": {},
   "outputs": [
    {
     "name": "stderr",
     "output_type": "stream",
     "text": [
      "D:\\School\\python\\lib\\site-packages\\sklearn\\base.py:197: FutureWarning: From version 0.24, get_params will raise an AttributeError if a parameter cannot be retrieved as an instance attribute. Previously it would return None.\n",
      "  FutureWarning)\n"
     ]
    },
    {
     "data": {
      "image/png": "[encoded data removed]",
      "text/plain": [
       "<Figure size 432x288 with 1 Axes>"
      ]
     },
     "metadata": {
      "needs_background": "light"
     },
     "output_type": "display_data"
    },
    {
     "data": {
      "text/plain": [
       "<matplotlib.axes._subplots.AxesSubplot at 0x1dabca233c8>"
      ]
     },
     "execution_count": 76,
     "metadata": {},
     "output_type": "execute_result"
    }
   ],
   "source": [
    "#instantiate the roc curve with the rf model\n",
    "visualizer = ROCAUC(clf2, classes=class_names)\n",
    "#fitting training data to the roc curve\n",
    "visualizer.fit(X_stride_cath_train, y_stride_cath_train.values.ravel())  \n",
    "#evaluate the model on the test data\n",
    "visualizer.score(X_stride_cath_test, y_stride_cath_test.values.ravel())  \n",
    "visualizer.poof() "
   ]
  },
  {
   "cell_type": "markdown",
   "metadata": {},
   "source": [
    "### Combining ML with MSA \n",
    "For this step, I got my multiple sequence alignment from clustral omega, I was't sure how to process the data in order to use the same classifier, I have tried to reshape it but it didn't work, thus I added the msa as residue_name and I added the missing column which was the PDB_seq_code with zero values. I was able to use the same classifier to predict after encoding the new data, however, it doesn't give anything but 1 which stands for coil. I think the encoding for MSA could be the reason since it is only one letter and it is not similar to what the classifier had trained on. "
   ]
  },
  {
   "cell_type": "code",
   "execution_count": 77,
   "metadata": {},
   "outputs": [
    {
     "data": {
      "text/html": [
       "<div>\n",
       "<style scoped>\n",
       "    .dataframe tbody tr th:only-of-type {\n",
       "        vertical-align: middle;\n",
       "    }\n",
       "\n",
       "    .dataframe tbody tr th {\n",
       "        vertical-align: top;\n",
       "    }\n",
       "\n",
       "    .dataframe thead th {\n",
       "        text-align: right;\n",
       "    }\n",
       "</style>\n",
       "<table border=\"1\" class=\"dataframe\">\n",
       "  <thead>\n",
       "    <tr style=\"text-align: right;\">\n",
       "      <th></th>\n",
       "      <th>PDB_code</th>\n",
       "      <th>PDB_chain_code</th>\n",
       "      <th>residue_name</th>\n",
       "    </tr>\n",
       "  </thead>\n",
       "  <tbody>\n",
       "    <tr>\n",
       "      <td>0</td>\n",
       "      <td>1ava</td>\n",
       "      <td>C</td>\n",
       "      <td>L</td>\n",
       "    </tr>\n",
       "    <tr>\n",
       "      <td>1</td>\n",
       "      <td>1ava</td>\n",
       "      <td>C</td>\n",
       "      <td>G</td>\n",
       "    </tr>\n",
       "    <tr>\n",
       "      <td>2</td>\n",
       "      <td>1ava</td>\n",
       "      <td>C</td>\n",
       "      <td>V</td>\n",
       "    </tr>\n",
       "    <tr>\n",
       "      <td>3</td>\n",
       "      <td>1ava</td>\n",
       "      <td>C</td>\n",
       "      <td>F</td>\n",
       "    </tr>\n",
       "    <tr>\n",
       "      <td>4</td>\n",
       "      <td>1ava</td>\n",
       "      <td>C</td>\n",
       "      <td>R</td>\n",
       "    </tr>\n",
       "  </tbody>\n",
       "</table>\n",
       "</div>"
      ],
      "text/plain": [
       "  PDB_code PDB_chain_code residue_name\n",
       "0    1ava             C              L\n",
       "1    1ava             C              G\n",
       "2    1ava             C              V\n",
       "3    1ava             C              F\n",
       "4    1ava             C              R"
      ]
     },
     "execution_count": 77,
     "metadata": {},
     "output_type": "execute_result"
    }
   ],
   "source": [
    "#loading the new msa set and preprocess it\n",
    "msa = pd.read_csv('msa.txt', delimiter=';',names=['PDB_code','PDB_chain_code','residue_name'])\n",
    "msa = msa.set_index(['PDB_code','PDB_chain_code']).apply(lambda x: x.str.split(',').explode()).reset_index()\n",
    "msa.head()"
   ]
  },
  {
   "cell_type": "code",
   "execution_count": 78,
   "metadata": {},
   "outputs": [
    {
     "data": {
      "text/html": [
       "<div>\n",
       "<style scoped>\n",
       "    .dataframe tbody tr th:only-of-type {\n",
       "        vertical-align: middle;\n",
       "    }\n",
       "\n",
       "    .dataframe tbody tr th {\n",
       "        vertical-align: top;\n",
       "    }\n",
       "\n",
       "    .dataframe thead th {\n",
       "        text-align: right;\n",
       "    }\n",
       "</style>\n",
       "<table border=\"1\" class=\"dataframe\">\n",
       "  <thead>\n",
       "    <tr style=\"text-align: right;\">\n",
       "      <th></th>\n",
       "      <th>PDB_code</th>\n",
       "      <th>PDB_chain_code</th>\n",
       "      <th>PDB_seq_code</th>\n",
       "      <th>residue_name</th>\n",
       "    </tr>\n",
       "  </thead>\n",
       "  <tbody>\n",
       "    <tr>\n",
       "      <td>0</td>\n",
       "      <td>1ava</td>\n",
       "      <td>C</td>\n",
       "      <td>0</td>\n",
       "      <td>L</td>\n",
       "    </tr>\n",
       "    <tr>\n",
       "      <td>1</td>\n",
       "      <td>1ava</td>\n",
       "      <td>C</td>\n",
       "      <td>0</td>\n",
       "      <td>G</td>\n",
       "    </tr>\n",
       "    <tr>\n",
       "      <td>2</td>\n",
       "      <td>1ava</td>\n",
       "      <td>C</td>\n",
       "      <td>0</td>\n",
       "      <td>V</td>\n",
       "    </tr>\n",
       "    <tr>\n",
       "      <td>3</td>\n",
       "      <td>1ava</td>\n",
       "      <td>C</td>\n",
       "      <td>0</td>\n",
       "      <td>F</td>\n",
       "    </tr>\n",
       "    <tr>\n",
       "      <td>4</td>\n",
       "      <td>1ava</td>\n",
       "      <td>C</td>\n",
       "      <td>0</td>\n",
       "      <td>R</td>\n",
       "    </tr>\n",
       "  </tbody>\n",
       "</table>\n",
       "</div>"
      ],
      "text/plain": [
       "  PDB_code PDB_chain_code  PDB_seq_code residue_name\n",
       "0    1ava             C               0            L\n",
       "1    1ava             C               0            G\n",
       "2    1ava             C               0            V\n",
       "3    1ava             C               0            F\n",
       "4    1ava             C               0            R"
      ]
     },
     "execution_count": 78,
     "metadata": {},
     "output_type": "execute_result"
    }
   ],
   "source": [
    "#get missing columns\n",
    "missing_cols = set(X_dssp.columns)  - set(msa.columns)\n",
    "#adding a missing column in test set with default value equal to 0\n",
    "for c in missing_cols:\n",
    "    msa[c] = 0\n",
    "#ensure the order of column in the test set is in the same order in train set\n",
    "msa = msa[X_dssp.columns]\n",
    "msa.head()"
   ]
  },
  {
   "cell_type": "code",
   "execution_count": 79,
   "metadata": {},
   "outputs": [
    {
     "data": {
      "text/plain": [
       "array([1., 1., 1., 1., 1., 1., 1., 1., 1., 1., 1., 1., 1., 1., 1., 1., 1.,\n",
       "       1., 1., 1., 1., 1., 1., 1., 1., 1., 1., 1., 1., 1., 1., 1., 1., 1.,\n",
       "       1., 1., 1., 1., 1., 1., 1., 1., 1., 1., 1., 1., 1., 1., 1., 1., 1.,\n",
       "       1., 1., 1., 1., 1., 1., 1., 1., 1., 1., 1.])"
      ]
     },
     "execution_count": 79,
     "metadata": {},
     "output_type": "execute_result"
    }
   ],
   "source": [
    "#encoding the set\n",
    "encoder.fit(msa)\n",
    "msa_enc= encoder.transform(msa)\n",
    "#msa_enc.shape\n",
    "#msa_enc= msa_enc.reshape(19,4)\n",
    "#using the knn to predict the ss on the new set\n",
    "clf.predict(msa_enc)"
   ]
  },
  {
   "cell_type": "markdown",
   "metadata": {},
   "source": [
    "### Conclusion\n",
    "Machine learning algorithms performed better on predicting the secondary structure than on predicting protein family, Although, the MCC score wasn't that good, however, it's better than 0 which corresponds to a random prediction. The \"stride_final_predictions\" and \"dssp_final_predictions\" show the secondary structure predictions per protein for stride and dssp. The only problem was that I couldn't decode them back to the original form. However, I made sure that the proteins are still in the same order that was given in cath. Moreover, the predictions consist of zeros, ones and twos which I also couldn't replace by Beta, Coil and Helix respectively. To conclude, the classifiers used were K- nearest neighbors and Random forest where knn was used to predict the secondary structure twice for dssp and then stride and random forest was used twice to predict protein family for the two sets. After each prediction, the Roc curve has been plotted to compare the performance of each classifer and how well they perfromed on each class, the best would be if the area under the curve (AUC) is closer to 1 on the y-axis and the worst would be if it's closer to 1 on the x-axis which will mean that everything is classified wrong. Although, an AUC of 0.5 doesn't represent a good result; it means that the classifier can't distinguish between classes. We can see that the first two roc curves show some good results where the AUC is almost 0.7 for the Helix, and the lowest was for the Coil where it was 0.65. However, for the last two roc curves, we can see that for the Alpha/beta class the AUC is almost 0.5. However, it's strange for the other classes, since it shows an AUC closer to 0.6 where none of them was actually classified correctly. Lastly, I would like to mention that in the beginning I have merged the three datasets and tried to predict the secondary stucture and it gave better results which means that knowing the protein family would help predicting the protein secondary structures. "
   ]
  },
  {
   "cell_type": "code",
   "execution_count": null,
   "metadata": {},
   "outputs": [],
   "source": []
  }
 ],
 "metadata": {
  "kernelspec": {
   "display_name": "Python 3",
   "language": "python",
   "name": "python3"
  },
  "language_info": {
   "codemirror_mode": {
    "name": "ipython",
    "version": 3
   },
   "file_extension": ".py",
   "mimetype": "text/x-python",
   "name": "python",
   "nbconvert_exporter": "python",
   "pygments_lexer": "ipython3",
   "version": "3.7.0"
  }
 },
 "nbformat": 4,
 "nbformat_minor": 2
}
