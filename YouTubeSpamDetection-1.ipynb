{
 "cells": [
  {
   "cell_type": "code",
   "execution_count": 2,
   "metadata": {},
   "outputs": [],
   "source": [
    "import pandas as pd\n",
    "import numpy as np\n",
    "import matplotlib.pyplot as plt\n",
    "import glob,os\n",
    "import seaborn as sns\n",
    "%matplotlib inline"
   ]
  },
  {
   "cell_type": "code",
   "execution_count": 3,
   "metadata": {},
   "outputs": [],
   "source": [
    "#read data\n",
    "data_psy= pd.read_csv('Youtube01-Psy.csv')\n",
    "data_perry= pd.read_csv('Youtube02-KatyPerry.csv')\n",
    "data_lmfao= pd.read_csv('Youtube03-LMFAO.csv')\n",
    "data_eminem=pd.read_csv('Youtube04-Eminem.csv')\n",
    "data_shakira=pd.read_csv('Youtube05-Shakira.csv')"
   ]
  },
  {
   "cell_type": "code",
   "execution_count": 4,
   "metadata": {},
   "outputs": [],
   "source": [
    "data = pd.concat([data_psy,data_perry,data_lmfao,data_eminem,data_shakira])"
   ]
  },
  {
   "cell_type": "code",
   "execution_count": 5,
   "metadata": {},
   "outputs": [
    {
     "data": {
      "text/html": [
       "<div>\n",
       "<style scoped>\n",
       "    .dataframe tbody tr th:only-of-type {\n",
       "        vertical-align: middle;\n",
       "    }\n",
       "\n",
       "    .dataframe tbody tr th {\n",
       "        vertical-align: top;\n",
       "    }\n",
       "\n",
       "    .dataframe thead th {\n",
       "        text-align: right;\n",
       "    }\n",
       "</style>\n",
       "<table border=\"1\" class=\"dataframe\">\n",
       "  <thead>\n",
       "    <tr style=\"text-align: right;\">\n",
       "      <th></th>\n",
       "      <th>COMMENT_ID</th>\n",
       "      <th>AUTHOR</th>\n",
       "      <th>DATE</th>\n",
       "      <th>CONTENT</th>\n",
       "      <th>CLASS</th>\n",
       "    </tr>\n",
       "  </thead>\n",
       "  <tbody>\n",
       "    <tr>\n",
       "      <th>0</th>\n",
       "      <td>LZQPQhLyRh80UYxNuaDWhIGQYNQ96IuCg-AYWqNPjpU</td>\n",
       "      <td>Julius NM</td>\n",
       "      <td>2013-11-07T06:20:48</td>\n",
       "      <td>Huh, anyway check out this you[tube] channel: ...</td>\n",
       "      <td>1</td>\n",
       "    </tr>\n",
       "    <tr>\n",
       "      <th>1</th>\n",
       "      <td>LZQPQhLyRh_C2cTtd9MvFRJedxydaVW-2sNg5Diuo4A</td>\n",
       "      <td>adam riyati</td>\n",
       "      <td>2013-11-07T12:37:15</td>\n",
       "      <td>Hey guys check out my new channel and our firs...</td>\n",
       "      <td>1</td>\n",
       "    </tr>\n",
       "    <tr>\n",
       "      <th>2</th>\n",
       "      <td>LZQPQhLyRh9MSZYnf8djyk0gEF9BHDPYrrK-qCczIY8</td>\n",
       "      <td>Evgeny Murashkin</td>\n",
       "      <td>2013-11-08T17:34:21</td>\n",
       "      <td>just for test I have to say murdev.com</td>\n",
       "      <td>1</td>\n",
       "    </tr>\n",
       "    <tr>\n",
       "      <th>3</th>\n",
       "      <td>z13jhp0bxqncu512g22wvzkasxmvvzjaz04</td>\n",
       "      <td>ElNino Melendez</td>\n",
       "      <td>2013-11-09T08:28:43</td>\n",
       "      <td>me shaking my sexy ass on my channel enjoy ^_^ ﻿</td>\n",
       "      <td>1</td>\n",
       "    </tr>\n",
       "    <tr>\n",
       "      <th>4</th>\n",
       "      <td>z13fwbwp1oujthgqj04chlngpvzmtt3r3dw</td>\n",
       "      <td>GsMega</td>\n",
       "      <td>2013-11-10T16:05:38</td>\n",
       "      <td>watch?v=vtaRGgvGtWQ   Check this out .﻿</td>\n",
       "      <td>1</td>\n",
       "    </tr>\n",
       "  </tbody>\n",
       "</table>\n",
       "</div>"
      ],
      "text/plain": [
       "                                    COMMENT_ID            AUTHOR  \\\n",
       "0  LZQPQhLyRh80UYxNuaDWhIGQYNQ96IuCg-AYWqNPjpU         Julius NM   \n",
       "1  LZQPQhLyRh_C2cTtd9MvFRJedxydaVW-2sNg5Diuo4A       adam riyati   \n",
       "2  LZQPQhLyRh9MSZYnf8djyk0gEF9BHDPYrrK-qCczIY8  Evgeny Murashkin   \n",
       "3          z13jhp0bxqncu512g22wvzkasxmvvzjaz04   ElNino Melendez   \n",
       "4          z13fwbwp1oujthgqj04chlngpvzmtt3r3dw            GsMega   \n",
       "\n",
       "                  DATE                                            CONTENT  \\\n",
       "0  2013-11-07T06:20:48  Huh, anyway check out this you[tube] channel: ...   \n",
       "1  2013-11-07T12:37:15  Hey guys check out my new channel and our firs...   \n",
       "2  2013-11-08T17:34:21             just for test I have to say murdev.com   \n",
       "3  2013-11-09T08:28:43   me shaking my sexy ass on my channel enjoy ^_^ ﻿   \n",
       "4  2013-11-10T16:05:38            watch?v=vtaRGgvGtWQ   Check this out .﻿   \n",
       "\n",
       "   CLASS  \n",
       "0      1  \n",
       "1      1  \n",
       "2      1  \n",
       "3      1  \n",
       "4      1  "
      ]
     },
     "execution_count": 5,
     "metadata": {},
     "output_type": "execute_result"
    }
   ],
   "source": [
    "data.head()"
   ]
  },
  {
   "cell_type": "code",
   "execution_count": 6,
   "metadata": {},
   "outputs": [
    {
     "data": {
      "text/plain": [
       "(1956, 5)"
      ]
     },
     "execution_count": 6,
     "metadata": {},
     "output_type": "execute_result"
    }
   ],
   "source": [
    "data.shape"
   ]
  },
  {
   "cell_type": "code",
   "execution_count": 7,
   "metadata": {},
   "outputs": [
    {
     "name": "stdout",
     "output_type": "stream",
     "text": [
      "<class 'pandas.core.frame.DataFrame'>\n",
      "Int64Index: 1956 entries, 0 to 369\n",
      "Data columns (total 5 columns):\n",
      "COMMENT_ID    1956 non-null object\n",
      "AUTHOR        1956 non-null object\n",
      "DATE          1711 non-null object\n",
      "CONTENT       1956 non-null object\n",
      "CLASS         1956 non-null int64\n",
      "dtypes: int64(1), object(4)\n",
      "memory usage: 91.7+ KB\n"
     ]
    }
   ],
   "source": [
    "data.info()"
   ]
  },
  {
   "cell_type": "code",
   "execution_count": 8,
   "metadata": {},
   "outputs": [],
   "source": [
    "data= data.drop(['COMMENT_ID', 'AUTHOR','DATE'], axis=1)"
   ]
  },
  {
   "cell_type": "code",
   "execution_count": 9,
   "metadata": {},
   "outputs": [
    {
     "data": {
      "text/html": [
       "<div>\n",
       "<style scoped>\n",
       "    .dataframe tbody tr th:only-of-type {\n",
       "        vertical-align: middle;\n",
       "    }\n",
       "\n",
       "    .dataframe tbody tr th {\n",
       "        vertical-align: top;\n",
       "    }\n",
       "\n",
       "    .dataframe thead th {\n",
       "        text-align: right;\n",
       "    }\n",
       "</style>\n",
       "<table border=\"1\" class=\"dataframe\">\n",
       "  <thead>\n",
       "    <tr style=\"text-align: right;\">\n",
       "      <th></th>\n",
       "      <th>CONTENT</th>\n",
       "      <th>CLASS</th>\n",
       "    </tr>\n",
       "  </thead>\n",
       "  <tbody>\n",
       "    <tr>\n",
       "      <th>0</th>\n",
       "      <td>Huh, anyway check out this you[tube] channel: ...</td>\n",
       "      <td>1</td>\n",
       "    </tr>\n",
       "    <tr>\n",
       "      <th>1</th>\n",
       "      <td>Hey guys check out my new channel and our firs...</td>\n",
       "      <td>1</td>\n",
       "    </tr>\n",
       "    <tr>\n",
       "      <th>2</th>\n",
       "      <td>just for test I have to say murdev.com</td>\n",
       "      <td>1</td>\n",
       "    </tr>\n",
       "    <tr>\n",
       "      <th>3</th>\n",
       "      <td>me shaking my sexy ass on my channel enjoy ^_^ ﻿</td>\n",
       "      <td>1</td>\n",
       "    </tr>\n",
       "    <tr>\n",
       "      <th>4</th>\n",
       "      <td>watch?v=vtaRGgvGtWQ   Check this out .﻿</td>\n",
       "      <td>1</td>\n",
       "    </tr>\n",
       "  </tbody>\n",
       "</table>\n",
       "</div>"
      ],
      "text/plain": [
       "                                             CONTENT  CLASS\n",
       "0  Huh, anyway check out this you[tube] channel: ...      1\n",
       "1  Hey guys check out my new channel and our firs...      1\n",
       "2             just for test I have to say murdev.com      1\n",
       "3   me shaking my sexy ass on my channel enjoy ^_^ ﻿      1\n",
       "4            watch?v=vtaRGgvGtWQ   Check this out .﻿      1"
      ]
     },
     "execution_count": 9,
     "metadata": {},
     "output_type": "execute_result"
    }
   ],
   "source": [
    "data.head()"
   ]
  },
  {
   "cell_type": "code",
   "execution_count": 10,
   "metadata": {},
   "outputs": [
    {
     "data": {
      "text/plain": [
       "1    1005\n",
       "0     951\n",
       "Name: CLASS, dtype: int64"
      ]
     },
     "execution_count": 10,
     "metadata": {},
     "output_type": "execute_result"
    }
   ],
   "source": [
    "data['CLASS'].value_counts()"
   ]
  },
  {
   "cell_type": "markdown",
   "metadata": {},
   "source": [
    "### Visualisation"
   ]
  },
  {
   "cell_type": "code",
   "execution_count": 10,
   "metadata": {},
   "outputs": [
    {
     "data": {
      "text/plain": [
       "<matplotlib.axes._subplots.AxesSubplot at 0x22e091e0160>"
      ]
     },
     "execution_count": 10,
     "metadata": {},
     "output_type": "execute_result"
    },
    {
     "data": {
      "image/png": "[encoded data removed]",
      "text/plain": [
       "<Figure size 432x288 with 1 Axes>"
      ]
     },
     "metadata": {
      "needs_background": "light"
     },
     "output_type": "display_data"
    }
   ],
   "source": [
    "sns.countplot(x='CLASS',data=data,palette='viridis')"
   ]
  },
  {
   "cell_type": "code",
   "execution_count": 11,
   "metadata": {},
   "outputs": [],
   "source": [
    "spam_match = [\"check my video\", \"follow me\", \"watch my videos\",\"subscribe\",\"please share\",\"check out\",\"my channel\",\"my page\",\n",
    "            \"giftcard\",\"promos\",\"sex\",\"channel\",\"new track\",\"attention\",\"subs\",\"check\",\"like them\",\"new album\",\"hack\",\n",
    "            \"vote\",\"please listen\",\"join me\",\"help me\",\"help\",\"youtube\",\"gay\",\"share\",\"fuck\",\"make money\",\"visit\",\"donate\",\n",
    "            \"trailer\",\"free\",\"channel\",\"instagram\",\"facebook\",\"soundcloud\",\"support\",\"website\",\"www\",\"http\",\"https\",\".com\",\"check this out\" ]"
   ]
  },
  {
   "cell_type": "code",
   "execution_count": 12,
   "metadata": {},
   "outputs": [],
   "source": [
    "def check_spam_words(content):\n",
    "    res=[x for x in spam_match if(x in content.lower())]\n",
    "    return bool(res)"
   ]
  },
  {
   "cell_type": "code",
   "execution_count": 13,
   "metadata": {},
   "outputs": [],
   "source": [
    "data['check_spam']= data.CONTENT.apply(check_spam_words)"
   ]
  },
  {
   "cell_type": "code",
   "execution_count": 14,
   "metadata": {},
   "outputs": [
    {
     "data": {
      "text/html": [
       "<div>\n",
       "<style scoped>\n",
       "    .dataframe tbody tr th:only-of-type {\n",
       "        vertical-align: middle;\n",
       "    }\n",
       "\n",
       "    .dataframe tbody tr th {\n",
       "        vertical-align: top;\n",
       "    }\n",
       "\n",
       "    .dataframe thead th {\n",
       "        text-align: right;\n",
       "    }\n",
       "</style>\n",
       "<table border=\"1\" class=\"dataframe\">\n",
       "  <thead>\n",
       "    <tr style=\"text-align: right;\">\n",
       "      <th></th>\n",
       "      <th>CONTENT</th>\n",
       "      <th>CLASS</th>\n",
       "      <th>check_spam</th>\n",
       "    </tr>\n",
       "  </thead>\n",
       "  <tbody>\n",
       "    <tr>\n",
       "      <th>0</th>\n",
       "      <td>Huh, anyway check out this you[tube] channel: ...</td>\n",
       "      <td>1</td>\n",
       "      <td>True</td>\n",
       "    </tr>\n",
       "    <tr>\n",
       "      <th>1</th>\n",
       "      <td>Hey guys check out my new channel and our firs...</td>\n",
       "      <td>1</td>\n",
       "      <td>True</td>\n",
       "    </tr>\n",
       "    <tr>\n",
       "      <th>2</th>\n",
       "      <td>just for test I have to say murdev.com</td>\n",
       "      <td>1</td>\n",
       "      <td>True</td>\n",
       "    </tr>\n",
       "    <tr>\n",
       "      <th>3</th>\n",
       "      <td>me shaking my sexy ass on my channel enjoy ^_^ ﻿</td>\n",
       "      <td>1</td>\n",
       "      <td>True</td>\n",
       "    </tr>\n",
       "    <tr>\n",
       "      <th>4</th>\n",
       "      <td>watch?v=vtaRGgvGtWQ   Check this out .﻿</td>\n",
       "      <td>1</td>\n",
       "      <td>True</td>\n",
       "    </tr>\n",
       "  </tbody>\n",
       "</table>\n",
       "</div>"
      ],
      "text/plain": [
       "                                             CONTENT  CLASS  check_spam\n",
       "0  Huh, anyway check out this you[tube] channel: ...      1        True\n",
       "1  Hey guys check out my new channel and our firs...      1        True\n",
       "2             just for test I have to say murdev.com      1        True\n",
       "3   me shaking my sexy ass on my channel enjoy ^_^ ﻿      1        True\n",
       "4            watch?v=vtaRGgvGtWQ   Check this out .﻿      1        True"
      ]
     },
     "execution_count": 14,
     "metadata": {},
     "output_type": "execute_result"
    }
   ],
   "source": [
    "data.head()"
   ]
  },
  {
   "cell_type": "markdown",
   "metadata": {},
   "source": [
    "#### In above I added some words which are often used in spam comments. then I checked to what  extent it is true that if the class is spam it contains one of the mentioned words "
   ]
  },
  {
   "cell_type": "code",
   "execution_count": 15,
   "metadata": {},
   "outputs": [
    {
     "name": "stderr",
     "output_type": "stream",
     "text": [
      "C:\\Users\\leeno\\Anaconda3\\lib\\site-packages\\scipy\\stats\\stats.py:1713: FutureWarning: Using a non-tuple sequence for multidimensional indexing is deprecated; use `arr[tuple(seq)]` instead of `arr[seq]`. In the future this will be interpreted as an array index, `arr[np.array(seq)]`, which will result either in an error or a different result.\n",
      "  return np.add.reduce(sorted[indexer] * weights, axis=axis) / sumval\n"
     ]
    },
    {
     "data": {
      "text/plain": [
       "<matplotlib.axes._subplots.AxesSubplot at 0x22e11283160>"
      ]
     },
     "execution_count": 15,
     "metadata": {},
     "output_type": "execute_result"
    },
    {
     "data": {
      "image/png": "[encoded data removed]",
      "text/plain": [
       "<Figure size 432x288 with 1 Axes>"
      ]
     },
     "metadata": {
      "needs_background": "light"
     },
     "output_type": "display_data"
    }
   ],
   "source": [
    "sns.barplot(x='CLASS', y='check_spam', data=data,palette='viridis')"
   ]
  },
  {
   "cell_type": "markdown",
   "metadata": {},
   "source": [
    "This shows that many contents which labeled as spam contain the spam words which we define"
   ]
  },
  {
   "cell_type": "code",
   "execution_count": 16,
   "metadata": {},
   "outputs": [],
   "source": [
    "data['Content_len'] = data['CONTENT'].str.len()\n"
   ]
  },
  {
   "cell_type": "code",
   "execution_count": 17,
   "metadata": {},
   "outputs": [
    {
     "data": {
      "text/html": [
       "<div>\n",
       "<style scoped>\n",
       "    .dataframe tbody tr th:only-of-type {\n",
       "        vertical-align: middle;\n",
       "    }\n",
       "\n",
       "    .dataframe tbody tr th {\n",
       "        vertical-align: top;\n",
       "    }\n",
       "\n",
       "    .dataframe thead th {\n",
       "        text-align: right;\n",
       "    }\n",
       "</style>\n",
       "<table border=\"1\" class=\"dataframe\">\n",
       "  <thead>\n",
       "    <tr style=\"text-align: right;\">\n",
       "      <th></th>\n",
       "      <th>CONTENT</th>\n",
       "      <th>CLASS</th>\n",
       "      <th>check_spam</th>\n",
       "      <th>Content_len</th>\n",
       "    </tr>\n",
       "  </thead>\n",
       "  <tbody>\n",
       "    <tr>\n",
       "      <th>0</th>\n",
       "      <td>Huh, anyway check out this you[tube] channel: ...</td>\n",
       "      <td>1</td>\n",
       "      <td>True</td>\n",
       "      <td>56</td>\n",
       "    </tr>\n",
       "    <tr>\n",
       "      <th>1</th>\n",
       "      <td>Hey guys check out my new channel and our firs...</td>\n",
       "      <td>1</td>\n",
       "      <td>True</td>\n",
       "      <td>166</td>\n",
       "    </tr>\n",
       "    <tr>\n",
       "      <th>2</th>\n",
       "      <td>just for test I have to say murdev.com</td>\n",
       "      <td>1</td>\n",
       "      <td>True</td>\n",
       "      <td>38</td>\n",
       "    </tr>\n",
       "    <tr>\n",
       "      <th>3</th>\n",
       "      <td>me shaking my sexy ass on my channel enjoy ^_^ ﻿</td>\n",
       "      <td>1</td>\n",
       "      <td>True</td>\n",
       "      <td>48</td>\n",
       "    </tr>\n",
       "    <tr>\n",
       "      <th>4</th>\n",
       "      <td>watch?v=vtaRGgvGtWQ   Check this out .﻿</td>\n",
       "      <td>1</td>\n",
       "      <td>True</td>\n",
       "      <td>39</td>\n",
       "    </tr>\n",
       "    <tr>\n",
       "      <th>5</th>\n",
       "      <td>Hey, check out my new website!! This site is a...</td>\n",
       "      <td>1</td>\n",
       "      <td>True</td>\n",
       "      <td>82</td>\n",
       "    </tr>\n",
       "    <tr>\n",
       "      <th>6</th>\n",
       "      <td>Subscribe to my channel ﻿</td>\n",
       "      <td>1</td>\n",
       "      <td>True</td>\n",
       "      <td>25</td>\n",
       "    </tr>\n",
       "    <tr>\n",
       "      <th>7</th>\n",
       "      <td>i turned it on mute as soon is i came on i jus...</td>\n",
       "      <td>0</td>\n",
       "      <td>True</td>\n",
       "      <td>78</td>\n",
       "    </tr>\n",
       "    <tr>\n",
       "      <th>8</th>\n",
       "      <td>You should check my channel for Funny VIDEOS!!﻿</td>\n",
       "      <td>1</td>\n",
       "      <td>True</td>\n",
       "      <td>47</td>\n",
       "    </tr>\n",
       "    <tr>\n",
       "      <th>9</th>\n",
       "      <td>and u should.d check my channel and tell me wh...</td>\n",
       "      <td>1</td>\n",
       "      <td>True</td>\n",
       "      <td>67</td>\n",
       "    </tr>\n",
       "    <tr>\n",
       "      <th>10</th>\n",
       "      <td>Hey subscribe to me﻿</td>\n",
       "      <td>1</td>\n",
       "      <td>True</td>\n",
       "      <td>20</td>\n",
       "    </tr>\n",
       "    <tr>\n",
       "      <th>11</th>\n",
       "      <td>Once you have started reading do not stop. If...</td>\n",
       "      <td>1</td>\n",
       "      <td>True</td>\n",
       "      <td>179</td>\n",
       "    </tr>\n",
       "    <tr>\n",
       "      <th>12</th>\n",
       "      <td>https://twitter.com/GBphotographyGB﻿</td>\n",
       "      <td>1</td>\n",
       "      <td>True</td>\n",
       "      <td>36</td>\n",
       "    </tr>\n",
       "    <tr>\n",
       "      <th>13</th>\n",
       "      <td>subscribe like comment﻿</td>\n",
       "      <td>1</td>\n",
       "      <td>True</td>\n",
       "      <td>23</td>\n",
       "    </tr>\n",
       "    <tr>\n",
       "      <th>14</th>\n",
       "      <td>please like :D https://premium.easypromosapp.c...</td>\n",
       "      <td>1</td>\n",
       "      <td>True</td>\n",
       "      <td>72</td>\n",
       "    </tr>\n",
       "    <tr>\n",
       "      <th>15</th>\n",
       "      <td>Hello! Do you like gaming, art videos, scienti...</td>\n",
       "      <td>1</td>\n",
       "      <td>True</td>\n",
       "      <td>317</td>\n",
       "    </tr>\n",
       "    <tr>\n",
       "      <th>16</th>\n",
       "      <td>I'm only checking the views﻿</td>\n",
       "      <td>0</td>\n",
       "      <td>True</td>\n",
       "      <td>28</td>\n",
       "    </tr>\n",
       "    <tr>\n",
       "      <th>17</th>\n",
       "      <td>http://www.ebay.com/itm/171183229277?ssPageNam...</td>\n",
       "      <td>1</td>\n",
       "      <td>True</td>\n",
       "      <td>94</td>\n",
       "    </tr>\n",
       "    <tr>\n",
       "      <th>18</th>\n",
       "      <td>http://ubuntuone.com/40beUutVu2ZKxK4uTgPZ8K﻿</td>\n",
       "      <td>1</td>\n",
       "      <td>True</td>\n",
       "      <td>44</td>\n",
       "    </tr>\n",
       "    <tr>\n",
       "      <th>19</th>\n",
       "      <td>We are an EDM apparel company dedicated to bri...</td>\n",
       "      <td>1</td>\n",
       "      <td>True</td>\n",
       "      <td>315</td>\n",
       "    </tr>\n",
       "    <tr>\n",
       "      <th>20</th>\n",
       "      <td>i think about 100 millions of the views come f...</td>\n",
       "      <td>0</td>\n",
       "      <td>True</td>\n",
       "      <td>93</td>\n",
       "    </tr>\n",
       "    <tr>\n",
       "      <th>21</th>\n",
       "      <td>subscribe to my channel people :D﻿</td>\n",
       "      <td>1</td>\n",
       "      <td>True</td>\n",
       "      <td>34</td>\n",
       "    </tr>\n",
       "    <tr>\n",
       "      <th>22</th>\n",
       "      <td>Show your AUBURN PRIDE HERE: http://www.teespr...</td>\n",
       "      <td>1</td>\n",
       "      <td>True</td>\n",
       "      <td>70</td>\n",
       "    </tr>\n",
       "    <tr>\n",
       "      <th>23</th>\n",
       "      <td>just checking the views﻿</td>\n",
       "      <td>0</td>\n",
       "      <td>True</td>\n",
       "      <td>24</td>\n",
       "    </tr>\n",
       "    <tr>\n",
       "      <th>24</th>\n",
       "      <td>CHECK OUT MY CHANNEL</td>\n",
       "      <td>1</td>\n",
       "      <td>True</td>\n",
       "      <td>20</td>\n",
       "    </tr>\n",
       "    <tr>\n",
       "      <th>25</th>\n",
       "      <td>marketglory . com/strategygame/andrijamatf ear...</td>\n",
       "      <td>1</td>\n",
       "      <td>False</td>\n",
       "      <td>68</td>\n",
       "    </tr>\n",
       "    <tr>\n",
       "      <th>26</th>\n",
       "      <td>Hey guys! Im a 12 yr old music producer. I mak...</td>\n",
       "      <td>1</td>\n",
       "      <td>True</td>\n",
       "      <td>228</td>\n",
       "    </tr>\n",
       "    <tr>\n",
       "      <th>27</th>\n",
       "      <td>Check me out! I'm kyle. I rap so yeah ﻿</td>\n",
       "      <td>1</td>\n",
       "      <td>True</td>\n",
       "      <td>39</td>\n",
       "    </tr>\n",
       "    <tr>\n",
       "      <th>28</th>\n",
       "      <td>I dont even watch it anymore i just come here ...</td>\n",
       "      <td>0</td>\n",
       "      <td>True</td>\n",
       "      <td>75</td>\n",
       "    </tr>\n",
       "    <tr>\n",
       "      <th>29</th>\n",
       "      <td>Subscribe to me for free Android games, apps.. ﻿</td>\n",
       "      <td>1</td>\n",
       "      <td>True</td>\n",
       "      <td>48</td>\n",
       "    </tr>\n",
       "    <tr>\n",
       "      <th>...</th>\n",
       "      <td>...</td>\n",
       "      <td>...</td>\n",
       "      <td>...</td>\n",
       "      <td>...</td>\n",
       "    </tr>\n",
       "    <tr>\n",
       "      <th>340</th>\n",
       "      <td>check out my new video</td>\n",
       "      <td>1</td>\n",
       "      <td>True</td>\n",
       "      <td>22</td>\n",
       "    </tr>\n",
       "    <tr>\n",
       "      <th>341</th>\n",
       "      <td>Hey Music Fans I really appreciate all of you ...</td>\n",
       "      <td>1</td>\n",
       "      <td>True</td>\n",
       "      <td>504</td>\n",
       "    </tr>\n",
       "    <tr>\n",
       "      <th>342</th>\n",
       "      <td>Hello everyone, It Is not my intention to spam...</td>\n",
       "      <td>1</td>\n",
       "      <td>True</td>\n",
       "      <td>508</td>\n",
       "    </tr>\n",
       "    <tr>\n",
       "      <th>343</th>\n",
       "      <td>******* Facebook is LAME and so 2004! Check ou...</td>\n",
       "      <td>1</td>\n",
       "      <td>True</td>\n",
       "      <td>145</td>\n",
       "    </tr>\n",
       "    <tr>\n",
       "      <th>344</th>\n",
       "      <td>Please check out and send to others Freedom an...</td>\n",
       "      <td>1</td>\n",
       "      <td>True</td>\n",
       "      <td>143</td>\n",
       "    </tr>\n",
       "    <tr>\n",
       "      <th>345</th>\n",
       "      <td>Nice to meet You - this is Johnny: 1. If You a...</td>\n",
       "      <td>1</td>\n",
       "      <td>True</td>\n",
       "      <td>522</td>\n",
       "    </tr>\n",
       "    <tr>\n",
       "      <th>346</th>\n",
       "      <td>hey you ! check out the channel of Alvar Lake !!</td>\n",
       "      <td>1</td>\n",
       "      <td>True</td>\n",
       "      <td>48</td>\n",
       "    </tr>\n",
       "    <tr>\n",
       "      <th>347</th>\n",
       "      <td>Hi -this is Johnny: 1. If You already know my ...</td>\n",
       "      <td>1</td>\n",
       "      <td>True</td>\n",
       "      <td>523</td>\n",
       "    </tr>\n",
       "    <tr>\n",
       "      <th>348</th>\n",
       "      <td>wow</td>\n",
       "      <td>0</td>\n",
       "      <td>False</td>\n",
       "      <td>3</td>\n",
       "    </tr>\n",
       "    <tr>\n",
       "      <th>349</th>\n",
       "      <td>Love this song!!!</td>\n",
       "      <td>0</td>\n",
       "      <td>False</td>\n",
       "      <td>17</td>\n",
       "    </tr>\n",
       "    <tr>\n",
       "      <th>350</th>\n",
       "      <td>Love this song !!!!!!</td>\n",
       "      <td>0</td>\n",
       "      <td>False</td>\n",
       "      <td>21</td>\n",
       "    </tr>\n",
       "    <tr>\n",
       "      <th>351</th>\n",
       "      <td>Check out this video on YouTube:&lt;br /&gt;&amp;quot;Th...</td>\n",
       "      <td>1</td>\n",
       "      <td>True</td>\n",
       "      <td>132</td>\n",
       "    </tr>\n",
       "    <tr>\n",
       "      <th>352</th>\n",
       "      <td>i watched this because of the large amount of ...</td>\n",
       "      <td>0</td>\n",
       "      <td>False</td>\n",
       "      <td>108</td>\n",
       "    </tr>\n",
       "    <tr>\n",
       "      <th>353</th>\n",
       "      <td>O peoples of the earth, I have seen how you pe...</td>\n",
       "      <td>1</td>\n",
       "      <td>False</td>\n",
       "      <td>476</td>\n",
       "    </tr>\n",
       "    <tr>\n",
       "      <th>354</th>\n",
       "      <td>this song always gives me chills! :)</td>\n",
       "      <td>0</td>\n",
       "      <td>False</td>\n",
       "      <td>36</td>\n",
       "    </tr>\n",
       "    <tr>\n",
       "      <th>355</th>\n",
       "      <td>I love dis song!! 3</td>\n",
       "      <td>0</td>\n",
       "      <td>False</td>\n",
       "      <td>19</td>\n",
       "    </tr>\n",
       "    <tr>\n",
       "      <th>356</th>\n",
       "      <td>I WILL NEVER FORGET THIS SONG IN MY LIFE LIKE ...</td>\n",
       "      <td>1</td>\n",
       "      <td>False</td>\n",
       "      <td>105</td>\n",
       "    </tr>\n",
       "    <tr>\n",
       "      <th>357</th>\n",
       "      <td>********OMG Facebook is OLD! Check out  ------...</td>\n",
       "      <td>1</td>\n",
       "      <td>True</td>\n",
       "      <td>141</td>\n",
       "    </tr>\n",
       "    <tr>\n",
       "      <th>358</th>\n",
       "      <td>Hey Music Fans I really appreciate all of you ...</td>\n",
       "      <td>1</td>\n",
       "      <td>True</td>\n",
       "      <td>504</td>\n",
       "    </tr>\n",
       "    <tr>\n",
       "      <th>359</th>\n",
       "      <td>**CHECK OUT MY NEW MIXTAPE**** **CHECK OUT MY ...</td>\n",
       "      <td>1</td>\n",
       "      <td>True</td>\n",
       "      <td>492</td>\n",
       "    </tr>\n",
       "    <tr>\n",
       "      <th>360</th>\n",
       "      <td>**CHECK OUT MY NEW MIXTAPE**** **CHECK OUT MY ...</td>\n",
       "      <td>1</td>\n",
       "      <td>True</td>\n",
       "      <td>492</td>\n",
       "    </tr>\n",
       "    <tr>\n",
       "      <th>361</th>\n",
       "      <td>**CHECK OUT MY NEW MIXTAPE**** **CHECK OUT MY ...</td>\n",
       "      <td>1</td>\n",
       "      <td>True</td>\n",
       "      <td>492</td>\n",
       "    </tr>\n",
       "    <tr>\n",
       "      <th>362</th>\n",
       "      <td>Waka waka she rules</td>\n",
       "      <td>0</td>\n",
       "      <td>False</td>\n",
       "      <td>19</td>\n",
       "    </tr>\n",
       "    <tr>\n",
       "      <th>363</th>\n",
       "      <td>she is sooooo beautiful!</td>\n",
       "      <td>0</td>\n",
       "      <td>False</td>\n",
       "      <td>24</td>\n",
       "    </tr>\n",
       "    <tr>\n",
       "      <th>364</th>\n",
       "      <td>well done shakira</td>\n",
       "      <td>0</td>\n",
       "      <td>False</td>\n",
       "      <td>17</td>\n",
       "    </tr>\n",
       "    <tr>\n",
       "      <th>365</th>\n",
       "      <td>I love this song because we sing it at Camp al...</td>\n",
       "      <td>0</td>\n",
       "      <td>False</td>\n",
       "      <td>58</td>\n",
       "    </tr>\n",
       "    <tr>\n",
       "      <th>366</th>\n",
       "      <td>I love this song for two reasons: 1.it is abou...</td>\n",
       "      <td>0</td>\n",
       "      <td>False</td>\n",
       "      <td>93</td>\n",
       "    </tr>\n",
       "    <tr>\n",
       "      <th>367</th>\n",
       "      <td>wow</td>\n",
       "      <td>0</td>\n",
       "      <td>False</td>\n",
       "      <td>3</td>\n",
       "    </tr>\n",
       "    <tr>\n",
       "      <th>368</th>\n",
       "      <td>Shakira u are so wiredo</td>\n",
       "      <td>0</td>\n",
       "      <td>False</td>\n",
       "      <td>23</td>\n",
       "    </tr>\n",
       "    <tr>\n",
       "      <th>369</th>\n",
       "      <td>Shakira is the best dancer</td>\n",
       "      <td>0</td>\n",
       "      <td>False</td>\n",
       "      <td>26</td>\n",
       "    </tr>\n",
       "  </tbody>\n",
       "</table>\n",
       "<p>1956 rows × 4 columns</p>\n",
       "</div>"
      ],
      "text/plain": [
       "                                               CONTENT  CLASS  check_spam  \\\n",
       "0    Huh, anyway check out this you[tube] channel: ...      1        True   \n",
       "1    Hey guys check out my new channel and our firs...      1        True   \n",
       "2               just for test I have to say murdev.com      1        True   \n",
       "3     me shaking my sexy ass on my channel enjoy ^_^ ﻿      1        True   \n",
       "4              watch?v=vtaRGgvGtWQ   Check this out .﻿      1        True   \n",
       "5    Hey, check out my new website!! This site is a...      1        True   \n",
       "6                            Subscribe to my channel ﻿      1        True   \n",
       "7    i turned it on mute as soon is i came on i jus...      0        True   \n",
       "8      You should check my channel for Funny VIDEOS!!﻿      1        True   \n",
       "9    and u should.d check my channel and tell me wh...      1        True   \n",
       "10                                Hey subscribe to me﻿      1        True   \n",
       "11    Once you have started reading do not stop. If...      1        True   \n",
       "12                https://twitter.com/GBphotographyGB﻿      1        True   \n",
       "13                             subscribe like comment﻿      1        True   \n",
       "14   please like :D https://premium.easypromosapp.c...      1        True   \n",
       "15   Hello! Do you like gaming, art videos, scienti...      1        True   \n",
       "16                        I'm only checking the views﻿      0        True   \n",
       "17   http://www.ebay.com/itm/171183229277?ssPageNam...      1        True   \n",
       "18        http://ubuntuone.com/40beUutVu2ZKxK4uTgPZ8K﻿      1        True   \n",
       "19   We are an EDM apparel company dedicated to bri...      1        True   \n",
       "20   i think about 100 millions of the views come f...      0        True   \n",
       "21                  subscribe to my channel people :D﻿      1        True   \n",
       "22   Show your AUBURN PRIDE HERE: http://www.teespr...      1        True   \n",
       "23                            just checking the views﻿      0        True   \n",
       "24                                CHECK OUT MY CHANNEL      1        True   \n",
       "25   marketglory . com/strategygame/andrijamatf ear...      1       False   \n",
       "26   Hey guys! Im a 12 yr old music producer. I mak...      1        True   \n",
       "27             Check me out! I'm kyle. I rap so yeah ﻿      1        True   \n",
       "28   I dont even watch it anymore i just come here ...      0        True   \n",
       "29    Subscribe to me for free Android games, apps.. ﻿      1        True   \n",
       "..                                                 ...    ...         ...   \n",
       "340                             check out my new video      1        True   \n",
       "341  Hey Music Fans I really appreciate all of you ...      1        True   \n",
       "342  Hello everyone, It Is not my intention to spam...      1        True   \n",
       "343  ******* Facebook is LAME and so 2004! Check ou...      1        True   \n",
       "344  Please check out and send to others Freedom an...      1        True   \n",
       "345  Nice to meet You - this is Johnny: 1. If You a...      1        True   \n",
       "346   hey you ! check out the channel of Alvar Lake !!      1        True   \n",
       "347  Hi -this is Johnny: 1. If You already know my ...      1        True   \n",
       "348                                                wow      0       False   \n",
       "349                                  Love this song!!!      0       False   \n",
       "350                              Love this song !!!!!!      0       False   \n",
       "351  Check out this video on YouTube:<br />&quot;Th...      1        True   \n",
       "352  i watched this because of the large amount of ...      0       False   \n",
       "353  O peoples of the earth, I have seen how you pe...      1       False   \n",
       "354               this song always gives me chills! :)      0       False   \n",
       "355                                I love dis song!! 3      0       False   \n",
       "356  I WILL NEVER FORGET THIS SONG IN MY LIFE LIKE ...      1       False   \n",
       "357  ********OMG Facebook is OLD! Check out  ------...      1        True   \n",
       "358  Hey Music Fans I really appreciate all of you ...      1        True   \n",
       "359  **CHECK OUT MY NEW MIXTAPE**** **CHECK OUT MY ...      1        True   \n",
       "360  **CHECK OUT MY NEW MIXTAPE**** **CHECK OUT MY ...      1        True   \n",
       "361  **CHECK OUT MY NEW MIXTAPE**** **CHECK OUT MY ...      1        True   \n",
       "362                                Waka waka she rules      0       False   \n",
       "363                           she is sooooo beautiful!      0       False   \n",
       "364                                  well done shakira      0       False   \n",
       "365  I love this song because we sing it at Camp al...      0       False   \n",
       "366  I love this song for two reasons: 1.it is abou...      0       False   \n",
       "367                                                wow      0       False   \n",
       "368                            Shakira u are so wiredo      0       False   \n",
       "369                         Shakira is the best dancer      0       False   \n",
       "\n",
       "     Content_len  \n",
       "0             56  \n",
       "1            166  \n",
       "2             38  \n",
       "3             48  \n",
       "4             39  \n",
       "5             82  \n",
       "6             25  \n",
       "7             78  \n",
       "8             47  \n",
       "9             67  \n",
       "10            20  \n",
       "11           179  \n",
       "12            36  \n",
       "13            23  \n",
       "14            72  \n",
       "15           317  \n",
       "16            28  \n",
       "17            94  \n",
       "18            44  \n",
       "19           315  \n",
       "20            93  \n",
       "21            34  \n",
       "22            70  \n",
       "23            24  \n",
       "24            20  \n",
       "25            68  \n",
       "26           228  \n",
       "27            39  \n",
       "28            75  \n",
       "29            48  \n",
       "..           ...  \n",
       "340           22  \n",
       "341          504  \n",
       "342          508  \n",
       "343          145  \n",
       "344          143  \n",
       "345          522  \n",
       "346           48  \n",
       "347          523  \n",
       "348            3  \n",
       "349           17  \n",
       "350           21  \n",
       "351          132  \n",
       "352          108  \n",
       "353          476  \n",
       "354           36  \n",
       "355           19  \n",
       "356          105  \n",
       "357          141  \n",
       "358          504  \n",
       "359          492  \n",
       "360          492  \n",
       "361          492  \n",
       "362           19  \n",
       "363           24  \n",
       "364           17  \n",
       "365           58  \n",
       "366           93  \n",
       "367            3  \n",
       "368           23  \n",
       "369           26  \n",
       "\n",
       "[1956 rows x 4 columns]"
      ]
     },
     "execution_count": 17,
     "metadata": {},
     "output_type": "execute_result"
    }
   ],
   "source": [
    "data"
   ]
  },
  {
   "cell_type": "code",
   "execution_count": 18,
   "metadata": {},
   "outputs": [
    {
     "data": {
      "text/plain": [
       "<matplotlib.axes._subplots.AxesSubplot at 0x22e113608d0>"
      ]
     },
     "execution_count": 18,
     "metadata": {},
     "output_type": "execute_result"
    },
    {
     "data": {
      "image/png": "[encoded data removed]",
      "text/plain": [
       "<Figure size 432x288 with 1 Axes>"
      ]
     },
     "metadata": {
      "needs_background": "light"
     },
     "output_type": "display_data"
    }
   ],
   "source": [
    "sns.boxplot(x='CLASS', y='Content_len', data=data,palette='viridis')"
   ]
  },
  {
   "cell_type": "markdown",
   "metadata": {},
   "source": [
    "Here we could say that, the longer the message length, the more likely it is to be spam. "
   ]
  },
  {
   "cell_type": "code",
   "execution_count": 19,
   "metadata": {},
   "outputs": [],
   "source": [
    "data_1=data[data['CLASS']==1]\n",
    "data_0=data[data['CLASS']==0]"
   ]
  },
  {
   "cell_type": "code",
   "execution_count": 20,
   "metadata": {},
   "outputs": [
    {
     "data": {
      "image/png": "[encoded data removed]",
      "text/plain": [
       "<Figure size 864x576 with 1 Axes>"
      ]
     },
     "metadata": {
      "needs_background": "light"
     },
     "output_type": "display_data"
    }
   ],
   "source": [
    "plt.figure(figsize=(12, 8))\n",
    "\n",
    "data_1['Content_len'].plot(kind='hist', color='blue',label='Spam', alpha=0.6)\n",
    "data_0['Content_len'].plot(kind='hist', color='red', label='Ham', alpha=0.6)\n",
    "plt.legend()\n",
    "plt.xlabel(\"Message Length\")\n",
    "plt.ylabel(\"Frequency\")\n",
    "plt.show()\n"
   ]
  },
  {
   "cell_type": "markdown",
   "metadata": {},
   "source": [
    "This shows that comments that have larger length are more likey to be spam"
   ]
  },
  {
   "cell_type": "code",
   "execution_count": 21,
   "metadata": {},
   "outputs": [
    {
     "name": "stdout",
     "output_type": "stream",
     "text": [
      "[nltk_data] Downloading package stopwords to\n",
      "[nltk_data]     C:\\Users\\leeno\\AppData\\Roaming\\nltk_data...\n",
      "[nltk_data]   Package stopwords is already up-to-date!\n"
     ]
    }
   ],
   "source": [
    "import string\n",
    "import nltk\n",
    "nltk.download('stopwords')\n",
    "from nltk.corpus import stopwords\n",
    "\n",
    "def text_clean(mess):\n",
    "\n",
    "    STOPWORDS = stopwords.words('english') \n",
    "    #Check characters to see if they are in punctuation\n",
    "    nopunc = [char for char in mess if char not in string.punctuation]\n",
    "\n",
    "    #Join the characters again to form the string.\n",
    "    nopunc = ''.join(nopunc)\n",
    "    \n",
    "    #remove stopwords\n",
    "    return ' '.join([word for word in nopunc.split() if word.lower() not in STOPWORDS])"
   ]
  },
  {
   "cell_type": "code",
   "execution_count": 22,
   "metadata": {},
   "outputs": [],
   "source": [
    "data['Clean_content'] = data.CONTENT.apply(text_clean).str.lower()"
   ]
  },
  {
   "cell_type": "code",
   "execution_count": 23,
   "metadata": {},
   "outputs": [
    {
     "data": {
      "text/html": [
       "<div>\n",
       "<style scoped>\n",
       "    .dataframe tbody tr th:only-of-type {\n",
       "        vertical-align: middle;\n",
       "    }\n",
       "\n",
       "    .dataframe tbody tr th {\n",
       "        vertical-align: top;\n",
       "    }\n",
       "\n",
       "    .dataframe thead th {\n",
       "        text-align: right;\n",
       "    }\n",
       "</style>\n",
       "<table border=\"1\" class=\"dataframe\">\n",
       "  <thead>\n",
       "    <tr style=\"text-align: right;\">\n",
       "      <th></th>\n",
       "      <th>CONTENT</th>\n",
       "      <th>CLASS</th>\n",
       "      <th>check_spam</th>\n",
       "      <th>Content_len</th>\n",
       "      <th>Clean_content</th>\n",
       "    </tr>\n",
       "  </thead>\n",
       "  <tbody>\n",
       "    <tr>\n",
       "      <th>0</th>\n",
       "      <td>Huh, anyway check out this you[tube] channel: ...</td>\n",
       "      <td>1</td>\n",
       "      <td>True</td>\n",
       "      <td>56</td>\n",
       "      <td>huh anyway check youtube channel kobyoshi02</td>\n",
       "    </tr>\n",
       "    <tr>\n",
       "      <th>1</th>\n",
       "      <td>Hey guys check out my new channel and our firs...</td>\n",
       "      <td>1</td>\n",
       "      <td>True</td>\n",
       "      <td>166</td>\n",
       "      <td>hey guys check new channel first vid us monkey...</td>\n",
       "    </tr>\n",
       "    <tr>\n",
       "      <th>2</th>\n",
       "      <td>just for test I have to say murdev.com</td>\n",
       "      <td>1</td>\n",
       "      <td>True</td>\n",
       "      <td>38</td>\n",
       "      <td>test say murdevcom</td>\n",
       "    </tr>\n",
       "    <tr>\n",
       "      <th>3</th>\n",
       "      <td>me shaking my sexy ass on my channel enjoy ^_^ ﻿</td>\n",
       "      <td>1</td>\n",
       "      <td>True</td>\n",
       "      <td>48</td>\n",
       "      <td>shaking sexy ass channel enjoy ﻿</td>\n",
       "    </tr>\n",
       "    <tr>\n",
       "      <th>4</th>\n",
       "      <td>watch?v=vtaRGgvGtWQ   Check this out .﻿</td>\n",
       "      <td>1</td>\n",
       "      <td>True</td>\n",
       "      <td>39</td>\n",
       "      <td>watchvvtarggvgtwq check ﻿</td>\n",
       "    </tr>\n",
       "  </tbody>\n",
       "</table>\n",
       "</div>"
      ],
      "text/plain": [
       "                                             CONTENT  CLASS  check_spam  \\\n",
       "0  Huh, anyway check out this you[tube] channel: ...      1        True   \n",
       "1  Hey guys check out my new channel and our firs...      1        True   \n",
       "2             just for test I have to say murdev.com      1        True   \n",
       "3   me shaking my sexy ass on my channel enjoy ^_^ ﻿      1        True   \n",
       "4            watch?v=vtaRGgvGtWQ   Check this out .﻿      1        True   \n",
       "\n",
       "   Content_len                                      Clean_content  \n",
       "0           56        huh anyway check youtube channel kobyoshi02  \n",
       "1          166  hey guys check new channel first vid us monkey...  \n",
       "2           38                                 test say murdevcom  \n",
       "3           48                   shaking sexy ass channel enjoy ﻿  \n",
       "4           39                          watchvvtarggvgtwq check ﻿  "
      ]
     },
     "execution_count": 23,
     "metadata": {},
     "output_type": "execute_result"
    }
   ],
   "source": [
    "data.head()"
   ]
  },
  {
   "cell_type": "code",
   "execution_count": 24,
   "metadata": {},
   "outputs": [],
   "source": [
    "X = data.Clean_content\n",
    "y = data.CLASS"
   ]
  },
  {
   "cell_type": "code",
   "execution_count": 25,
   "metadata": {},
   "outputs": [],
   "source": [
    "# split X and y into training and testing sets \n",
    "from sklearn.model_selection import train_test_split\n",
    "X_train, X_test, y_train, y_test = train_test_split(X, y, random_state=1)"
   ]
  },
  {
   "cell_type": "code",
   "execution_count": 26,
   "metadata": {},
   "outputs": [
    {
     "name": "stdout",
     "output_type": "stream",
     "text": [
      "(1467,)\n",
      "(1467,)\n",
      "(489,)\n",
      "(489,)\n"
     ]
    }
   ],
   "source": [
    "print(X_train.shape)\n",
    "print(y_train.shape)\n",
    "print(X_test.shape)\n",
    "print(y_test.shape)"
   ]
  },
  {
   "cell_type": "code",
   "execution_count": 27,
   "metadata": {},
   "outputs": [],
   "source": [
    "from sklearn.feature_extraction.text import CountVectorizer\n",
    "vect = CountVectorizer()\n",
    "X_train_vectorized = vect.fit_transform(X_train)"
   ]
  },
  {
   "cell_type": "code",
   "execution_count": 28,
   "metadata": {},
   "outputs": [],
   "source": [
    "from sklearn.feature_extraction.text import TfidfTransformer\n",
    "tfid_transformer = TfidfTransformer()\n",
    "final_X_train = tfid_transformer.fit_transform(X_train_vectorized)"
   ]
  },
  {
   "cell_type": "code",
   "execution_count": 29,
   "metadata": {},
   "outputs": [],
   "source": [
    "X_test_vectorized = vect.transform(X_test)\n"
   ]
  },
  {
   "cell_type": "code",
   "execution_count": 30,
   "metadata": {},
   "outputs": [],
   "source": [
    "final_X_test = tfid_transformer.transform(X_test_vectorized)\n"
   ]
  },
  {
   "cell_type": "code",
   "execution_count": 31,
   "metadata": {},
   "outputs": [
    {
     "data": {
      "text/plain": [
       "<1467x3366 sparse matrix of type '<class 'numpy.float64'>'\n",
       "\twith 11107 stored elements in Compressed Sparse Row format>"
      ]
     },
     "execution_count": 31,
     "metadata": {},
     "output_type": "execute_result"
    }
   ],
   "source": [
    "final_X_train"
   ]
  },
  {
   "cell_type": "code",
   "execution_count": 32,
   "metadata": {},
   "outputs": [
    {
     "data": {
      "text/plain": [
       "<489x3366 sparse matrix of type '<class 'numpy.float64'>'\n",
       "\twith 3434 stored elements in Compressed Sparse Row format>"
      ]
     },
     "execution_count": 32,
     "metadata": {},
     "output_type": "execute_result"
    }
   ],
   "source": [
    "final_X_test"
   ]
  },
  {
   "cell_type": "code",
   "execution_count": 33,
   "metadata": {},
   "outputs": [
    {
     "name": "stdout",
     "output_type": "stream",
     "text": [
      "(1467, 3366)\n",
      "(489, 3366)\n"
     ]
    }
   ],
   "source": [
    "print(final_X_train.shape)\n",
    "print(final_X_test.shape)\n"
   ]
  },
  {
   "cell_type": "markdown",
   "metadata": {},
   "source": [
    "## Build,train and evaluate models"
   ]
  },
  {
   "cell_type": "markdown",
   "metadata": {},
   "source": [
    "### Naive Bayes"
   ]
  },
  {
   "cell_type": "code",
   "execution_count": 34,
   "metadata": {},
   "outputs": [],
   "source": [
    "from sklearn.naive_bayes import MultinomialNB\n",
    "from sklearn import metrics\n",
    "\n",
    "nb_model = MultinomialNB()\n",
    "nb_model.fit(final_X_train,y_train)\n",
    "nb_pred = nb_model.predict(final_X_test)\n",
    "nb_accuracy = metrics.accuracy_score(y_test,nb_pred)\n",
    "nb_matrix = metrics.confusion_matrix(y_test,nb_pred)\n",
    "nb_f1_score = metrics.f1_score(y_test,nb_pred)"
   ]
  },
  {
   "cell_type": "code",
   "execution_count": 35,
   "metadata": {},
   "outputs": [
    {
     "name": "stdout",
     "output_type": "stream",
     "text": [
      "0.8813905930470347\n",
      "0.8901515151515152\n",
      "[[196  33]\n",
      " [ 25 235]]\n"
     ]
    }
   ],
   "source": [
    "print(nb_accuracy)\n",
    "print(nb_f1_score)\n",
    "print(nb_matrix)"
   ]
  },
  {
   "cell_type": "code",
   "execution_count": 36,
   "metadata": {},
   "outputs": [
    {
     "name": "stdout",
     "output_type": "stream",
     "text": [
      "0.8568507157464212\n"
     ]
    }
   ],
   "source": [
    "from sklearn.naive_bayes import BernoulliNB\n",
    "nbb = BernoulliNB()\n",
    "nbb.fit(final_X_train, y_train)\n",
    "nbb_pred = nbb.predict(final_X_test)\n",
    "nbb_accuracy = metrics.accuracy_score(y_test,nbb_pred)\n",
    "print(nbb_accuracy)"
   ]
  },
  {
   "cell_type": "markdown",
   "metadata": {},
   "source": [
    "### Logistic Regression"
   ]
  },
  {
   "cell_type": "code",
   "execution_count": 37,
   "metadata": {},
   "outputs": [],
   "source": [
    "from sklearn.linear_model import LogisticRegression\n",
    "\n",
    "lr_model = LogisticRegression()\n",
    "lr_model.fit(final_X_train,y_train)\n",
    "lr_pred = lr_model.predict(final_X_test)\n",
    "lr_accuracy = metrics.accuracy_score(y_test,lr_pred)\n",
    "lr_matrix = metrics.confusion_matrix(y_test,lr_pred)\n",
    "lr_f1_score = metrics.f1_score(y_test,lr_pred)"
   ]
  },
  {
   "cell_type": "code",
   "execution_count": 38,
   "metadata": {},
   "outputs": [
    {
     "name": "stdout",
     "output_type": "stream",
     "text": [
      "0.8916155419222904\n",
      "0.8898128898128899\n",
      "[[222   7]\n",
      " [ 46 214]]\n"
     ]
    }
   ],
   "source": [
    "print(lr_accuracy)\n",
    "print(lr_f1_score)\n",
    "print(lr_matrix)"
   ]
  },
  {
   "cell_type": "markdown",
   "metadata": {},
   "source": [
    "### Stochastic Gradient Descent"
   ]
  },
  {
   "cell_type": "code",
   "execution_count": 39,
   "metadata": {},
   "outputs": [
    {
     "name": "stderr",
     "output_type": "stream",
     "text": [
      "C:\\Users\\leeno\\Anaconda3\\lib\\site-packages\\sklearn\\linear_model\\stochastic_gradient.py:128: FutureWarning: max_iter and tol parameters have been added in <class 'sklearn.linear_model.stochastic_gradient.SGDClassifier'> in 0.19. If both are left unset, they default to max_iter=5 and tol=None. If tol is not None, max_iter defaults to max_iter=1000. From 0.21, default max_iter will be 1000, and default tol will be 1e-3.\n",
      "  \"and default tol will be 1e-3.\" % type(self), FutureWarning)\n"
     ]
    }
   ],
   "source": [
    "from sklearn.linear_model import SGDClassifier\n",
    "\n",
    "sgd_model = SGDClassifier(loss='modified_huber', penalty='l2',\n",
    "                     alpha=1e-3, random_state=42)\n",
    "sgd_model.fit(final_X_train,y_train)\n",
    "sgd_pred = sgd_model.predict(final_X_test)\n",
    "sgd_accuracy = metrics.accuracy_score(y_test,sgd_pred)\n",
    "sgd_matrix = metrics.confusion_matrix(y_test,sgd_pred)\n",
    "sgd_f1_score = metrics.f1_score(y_test,sgd_pred)"
   ]
  },
  {
   "cell_type": "code",
   "execution_count": 40,
   "metadata": {},
   "outputs": [
    {
     "name": "stdout",
     "output_type": "stream",
     "text": [
      "0.8977505112474438\n",
      "0.8987854251012146\n",
      "[[217  12]\n",
      " [ 38 222]]\n"
     ]
    }
   ],
   "source": [
    "print(sgd_accuracy)\n",
    "print(sgd_f1_score)\n",
    "print(sgd_matrix)"
   ]
  },
  {
   "cell_type": "markdown",
   "metadata": {},
   "source": [
    "### Gradient Boosting"
   ]
  },
  {
   "cell_type": "code",
   "execution_count": 41,
   "metadata": {},
   "outputs": [
    {
     "name": "stderr",
     "output_type": "stream",
     "text": [
      "C:\\Users\\leeno\\Anaconda3\\lib\\site-packages\\sklearn\\ensemble\\weight_boosting.py:29: DeprecationWarning: numpy.core.umath_tests is an internal NumPy module and should not be imported. It will be removed in a future NumPy release.\n",
      "  from numpy.core.umath_tests import inner1d\n"
     ]
    }
   ],
   "source": [
    "from sklearn.ensemble import  GradientBoostingClassifier\n",
    "gb_model= GradientBoostingClassifier()\n",
    "gb_model.fit(final_X_train,y_train)\n",
    "gb_pred = gb_model.predict(final_X_test)\n",
    "gb_accuracy = metrics.accuracy_score(y_test,gb_pred)\n",
    "gb_matrix = metrics.confusion_matrix(y_test,gb_pred)\n",
    "gb_f1_score = metrics.f1_score(y_test,gb_pred)"
   ]
  },
  {
   "cell_type": "code",
   "execution_count": 42,
   "metadata": {},
   "outputs": [
    {
     "name": "stdout",
     "output_type": "stream",
     "text": [
      "0.8936605316973415\n",
      "0.8912133891213389\n",
      "[[224   5]\n",
      " [ 47 213]]\n"
     ]
    }
   ],
   "source": [
    "print(gb_accuracy)\n",
    "print(gb_f1_score)\n",
    "print(gb_matrix)"
   ]
  },
  {
   "cell_type": "markdown",
   "metadata": {},
   "source": [
    "### Random Forest"
   ]
  },
  {
   "cell_type": "code",
   "execution_count": 43,
   "metadata": {},
   "outputs": [],
   "source": [
    "from sklearn.ensemble import RandomForestClassifier\n",
    "\n",
    "rf_model = RandomForestClassifier()\n",
    "rf_model.fit(final_X_train,y_train)\n",
    "rf_pred = rf_model.predict(final_X_test)\n",
    "rf_accuracy = metrics.accuracy_score(y_test,rf_pred)\n",
    "rf_matrix = metrics.confusion_matrix(y_test,rf_pred)\n",
    "rf_f1_score = metrics.f1_score(y_test,rf_pred)"
   ]
  },
  {
   "cell_type": "code",
   "execution_count": 44,
   "metadata": {},
   "outputs": [
    {
     "name": "stdout",
     "output_type": "stream",
     "text": [
      "0.8936605316973415\n",
      "0.8930041152263375\n",
      "[[220   9]\n",
      " [ 43 217]]\n"
     ]
    }
   ],
   "source": [
    "print(rf_accuracy)\n",
    "print(rf_f1_score)\n",
    "print(rf_matrix)"
   ]
  },
  {
   "cell_type": "markdown",
   "metadata": {},
   "source": [
    "### SVM with linear kernel"
   ]
  },
  {
   "cell_type": "code",
   "execution_count": 45,
   "metadata": {},
   "outputs": [],
   "source": [
    "from sklearn.svm import SVC\n",
    "svc_model = SVC(gamma = 'auto',kernel='linear',C = 1.0)\n",
    "svc_model.fit(final_X_train,y_train)\n",
    "svc_pred = svc_model.predict(final_X_test)\n",
    "svc_accuracy = metrics.accuracy_score(y_test,svc_pred)\n",
    "svc_matrix = metrics.confusion_matrix(y_test,svc_pred)\n",
    "svc_f1_score = metrics.f1_score(y_test,svc_pred)"
   ]
  },
  {
   "cell_type": "code",
   "execution_count": 46,
   "metadata": {},
   "outputs": [
    {
     "name": "stdout",
     "output_type": "stream",
     "text": [
      "0.8916155419222904\n",
      "0.8916155419222904\n",
      "[[218  11]\n",
      " [ 42 218]]\n"
     ]
    }
   ],
   "source": [
    "print(svc_accuracy)\n",
    "print(svc_f1_score)\n",
    "print(svc_matrix)"
   ]
  },
  {
   "cell_type": "markdown",
   "metadata": {},
   "source": [
    "### SVM with polynomial kernel"
   ]
  },
  {
   "cell_type": "code",
   "execution_count": 47,
   "metadata": {},
   "outputs": [],
   "source": [
    "svc_model_poly = SVC(gamma = 0.01,kernel='poly',degree=2,coef0=155)\n",
    "svc_model_poly.fit(final_X_train,y_train)\n",
    "svc_pred_poly = svc_model_poly.predict(final_X_test)\n",
    "svc_accuracy_poly = metrics.accuracy_score(y_test,svc_pred_poly)\n",
    "svc_matrix_poly = metrics.confusion_matrix(y_test,svc_pred_poly)\n",
    "svc_f1_score_poly = metrics.f1_score(y_test,svc_pred_poly)"
   ]
  },
  {
   "cell_type": "code",
   "execution_count": 48,
   "metadata": {},
   "outputs": [
    {
     "name": "stdout",
     "output_type": "stream",
     "text": [
      "0.8957055214723927\n",
      "0.896551724137931\n",
      "[[217  12]\n",
      " [ 39 221]]\n"
     ]
    }
   ],
   "source": [
    "print(svc_accuracy_poly)\n",
    "print(svc_f1_score_poly)\n",
    "print(svc_matrix_poly)"
   ]
  },
  {
   "cell_type": "markdown",
   "metadata": {},
   "source": [
    "### Extra Trees "
   ]
  },
  {
   "cell_type": "code",
   "execution_count": 49,
   "metadata": {},
   "outputs": [],
   "source": [
    "from sklearn.ensemble import ExtraTreesClassifier\n",
    "extree_model=ExtraTreesClassifier()\n",
    "extree_model.fit(final_X_train, y_train)\n",
    "\n",
    "extree_pred = extree_model.predict(final_X_test)\n",
    "extree_accuracy = metrics.accuracy_score(y_test,extree_pred)\n",
    "extree_matrix = metrics.confusion_matrix(y_test,extree_pred)\n",
    "extree_f1_score = metrics.f1_score(y_test,extree_pred)"
   ]
  },
  {
   "cell_type": "code",
   "execution_count": 50,
   "metadata": {},
   "outputs": [
    {
     "name": "stdout",
     "output_type": "stream",
     "text": [
      "0.8834355828220859\n",
      "0.8784648187633263\n",
      "[[226   3]\n",
      " [ 54 206]]\n"
     ]
    }
   ],
   "source": [
    "print(extree_accuracy)\n",
    "print(extree_f1_score)\n",
    "print(extree_matrix)"
   ]
  },
  {
   "cell_type": "markdown",
   "metadata": {},
   "source": [
    "### Decision Tree"
   ]
  },
  {
   "cell_type": "code",
   "execution_count": 51,
   "metadata": {},
   "outputs": [],
   "source": [
    "from sklearn.tree import DecisionTreeClassifier\n",
    "dt_model = DecisionTreeClassifier(random_state=40)\n",
    "dt_model.fit(final_X_train, y_train)\n",
    "\n",
    "dt_pred = dt_model.predict(final_X_test)\n",
    "dt_accuracy = metrics.accuracy_score(y_test,dt_pred)\n",
    "dt_matrix = metrics.confusion_matrix(y_test,dt_pred)\n",
    "dt_f1_score = metrics.f1_score(y_test,dt_pred)"
   ]
  },
  {
   "cell_type": "code",
   "execution_count": 52,
   "metadata": {},
   "outputs": [
    {
     "name": "stdout",
     "output_type": "stream",
     "text": [
      "0.8916155419222904\n",
      "0.8933601609657947\n",
      "[[214  15]\n",
      " [ 38 222]]\n"
     ]
    }
   ],
   "source": [
    "print(dt_accuracy)\n",
    "print(dt_f1_score)\n",
    "print(dt_matrix)"
   ]
  },
  {
   "cell_type": "code",
   "execution_count": 53,
   "metadata": {},
   "outputs": [],
   "source": [
    "# making the summary table of train accuracy.\n",
    "test_accuracy = pd.DataFrame({'Test_accuracy(%)':[nb_accuracy, lr_accuracy, sgd_accuracy, rf_accuracy, svc_accuracy,svc_accuracy_poly,extree_accuracy,dt_accuracy,gb_accuracy ]})\n",
    "test_accuracy.index = ['Naive Bayesian', 'Logistic Regression','Stochastic Gradient Decent', 'Random Forest', 'SVC_linear','SVC_Polynomial','Exta Trees','Decision Tree','Gradient Boosting']\n",
    "sorted_test_accuracy = test_accuracy.sort_values(by = 'Test_accuracy(%)', ascending = False)"
   ]
  },
  {
   "cell_type": "code",
   "execution_count": 54,
   "metadata": {},
   "outputs": [
    {
     "data": {
      "text/html": [
       "<div>\n",
       "<style scoped>\n",
       "    .dataframe tbody tr th:only-of-type {\n",
       "        vertical-align: middle;\n",
       "    }\n",
       "\n",
       "    .dataframe tbody tr th {\n",
       "        vertical-align: top;\n",
       "    }\n",
       "\n",
       "    .dataframe thead th {\n",
       "        text-align: right;\n",
       "    }\n",
       "</style>\n",
       "<table border=\"1\" class=\"dataframe\">\n",
       "  <thead>\n",
       "    <tr style=\"text-align: right;\">\n",
       "      <th></th>\n",
       "      <th>Test_accuracy(%)</th>\n",
       "    </tr>\n",
       "  </thead>\n",
       "  <tbody>\n",
       "    <tr>\n",
       "      <th>Stochastic Gradient Decent</th>\n",
       "      <td>0.897751</td>\n",
       "    </tr>\n",
       "    <tr>\n",
       "      <th>SVC_Polynomial</th>\n",
       "      <td>0.895706</td>\n",
       "    </tr>\n",
       "    <tr>\n",
       "      <th>Random Forest</th>\n",
       "      <td>0.893661</td>\n",
       "    </tr>\n",
       "    <tr>\n",
       "      <th>Gradient Boosting</th>\n",
       "      <td>0.893661</td>\n",
       "    </tr>\n",
       "    <tr>\n",
       "      <th>Logistic Regression</th>\n",
       "      <td>0.891616</td>\n",
       "    </tr>\n",
       "    <tr>\n",
       "      <th>SVC_linear</th>\n",
       "      <td>0.891616</td>\n",
       "    </tr>\n",
       "    <tr>\n",
       "      <th>Decision Tree</th>\n",
       "      <td>0.891616</td>\n",
       "    </tr>\n",
       "    <tr>\n",
       "      <th>Exta Trees</th>\n",
       "      <td>0.883436</td>\n",
       "    </tr>\n",
       "    <tr>\n",
       "      <th>Naive Bayesian</th>\n",
       "      <td>0.881391</td>\n",
       "    </tr>\n",
       "  </tbody>\n",
       "</table>\n",
       "</div>"
      ],
      "text/plain": [
       "                            Test_accuracy(%)\n",
       "Stochastic Gradient Decent          0.897751\n",
       "SVC_Polynomial                      0.895706\n",
       "Random Forest                       0.893661\n",
       "Gradient Boosting                   0.893661\n",
       "Logistic Regression                 0.891616\n",
       "SVC_linear                          0.891616\n",
       "Decision Tree                       0.891616\n",
       "Exta Trees                          0.883436\n",
       "Naive Bayesian                      0.881391"
      ]
     },
     "execution_count": 54,
     "metadata": {},
     "output_type": "execute_result"
    }
   ],
   "source": [
    "sorted_test_accuracy"
   ]
  },
  {
   "cell_type": "markdown",
   "metadata": {},
   "source": [
    "## Parameter tuning"
   ]
  },
  {
   "cell_type": "code",
   "execution_count": 55,
   "metadata": {},
   "outputs": [],
   "source": [
    "# 1. For logistic regression\n",
    "lr_params = {'C': np.logspace(0, 2, 4, 8 ,10),'solver': ['newton-cg', 'lbfgs', 'liblinear', 'sag', 'saga'],\n",
    "            'random_state': [0]}\n",
    "\n",
    "# 2. For Gradient Boosting Classifier\n",
    "gb_params = {'learning_rate': [0.01, 0.5, 0.7], 'random_state': [0],\n",
    "             'max_depth': [3,4,5], 'n_estimators': [395, 400, 405]}\n",
    "\n",
    "# 3. For Decision-Tree\n",
    "dt_params = {'max_features': ['auto', 'sqrt', 'log2'],\n",
    "             'min_samples_split': [15, 20, 30], \n",
    "             'min_samples_leaf':[1, 5 , 10, 15],\n",
    "             'random_state':[46]}\n",
    "# 4. For Random_Forest\n",
    "rf_params = {'criterion':['gini','entropy'],\n",
    "             'n_estimators':[350,450,550],\n",
    "             'min_samples_leaf':[1, 2, 3],\n",
    "             'min_samples_split':[3, 13, 23], \n",
    "             'max_features':['sqrt', 'auto', 'log2'],\n",
    "             'random_state':[0,46],\n",
    "             'max_depth':[2,12,22]}\n",
    "# 5. For SVC with linear kernel\n",
    "svc_params = {'C': [0.1,1,5,10], \n",
    "              'gamma': [ 1, 0.1, 0.01,0.001]\n",
    "             }\n",
    "\n",
    "# 6. For Xtra Trees\n",
    "extree_params = {'n_estimators':[145,147,200], 'min_samples_split':[20,25],\n",
    "                 'max_features':['auto','sqrt','log2'], \n",
    "                 'random_state': [0]}\n",
    "\n"
   ]
  },
  {
   "cell_type": "code",
   "execution_count": 56,
   "metadata": {},
   "outputs": [],
   "source": [
    "def tune_hyperparameters(model, param_grid):\n",
    "    from sklearn.model_selection import GridSearchCV\n",
    "    global tuned_parameters, tuned_score\n",
    "    \n",
    "    # Construct grid search object with 10 fold cross validation.\n",
    "    grid = GridSearchCV(model, param_grid, verbose = 3, cv = 10, scoring = 'accuracy', n_jobs = -1)\n",
    "    # Fit using grid search.\n",
    "    grid.fit(final_X_train, y_train)\n",
    "    tuned_parameters, tuned_score = grid.best_params_, np.round(grid.best_score_*100, 2)\n",
    "    return tuned_parameters, tuned_score"
   ]
  },
  {
   "cell_type": "markdown",
   "metadata": {},
   "source": [
    "### Logistic Regression"
   ]
  },
  {
   "cell_type": "code",
   "execution_count": 57,
   "metadata": {},
   "outputs": [
    {
     "name": "stdout",
     "output_type": "stream",
     "text": [
      "Fitting 10 folds for each of 20 candidates, totalling 200 fits\n"
     ]
    },
    {
     "name": "stderr",
     "output_type": "stream",
     "text": [
      "[Parallel(n_jobs=-1)]: Done  99 tasks      | elapsed:   10.6s\n",
      "[Parallel(n_jobs=-1)]: Done 169 out of 200 | elapsed:   10.8s remaining:    1.9s\n"
     ]
    },
    {
     "name": "stdout",
     "output_type": "stream",
     "text": [
      "Logistic Regression Best Score: 89.23\n",
      "And Best Parameters: {'C': 21.544346900318832, 'random_state': 0, 'solver': 'saga'}\n"
     ]
    },
    {
     "name": "stderr",
     "output_type": "stream",
     "text": [
      "[Parallel(n_jobs=-1)]: Done 200 out of 200 | elapsed:   11.2s finished\n"
     ]
    }
   ],
   "source": [
    "tune_hyperparameters(lr_model, param_grid=lr_params)\n",
    "lr_tuned_parameters, lr_tuned_score =  tuned_parameters, tuned_score\n",
    "print('Logistic Regression Best Score:', lr_tuned_score)\n",
    "print('And Best Parameters:', lr_tuned_parameters)"
   ]
  },
  {
   "cell_type": "markdown",
   "metadata": {},
   "source": [
    "### Gradient Boosting"
   ]
  },
  {
   "cell_type": "code",
   "execution_count": 58,
   "metadata": {},
   "outputs": [
    {
     "name": "stdout",
     "output_type": "stream",
     "text": [
      "Fitting 10 folds for each of 27 candidates, totalling 270 fits\n"
     ]
    },
    {
     "name": "stderr",
     "output_type": "stream",
     "text": [
      "[Parallel(n_jobs=-1)]: Done  96 tasks      | elapsed:   43.4s\n",
      "[Parallel(n_jobs=-1)]: Done 270 out of 270 | elapsed:  1.6min finished\n"
     ]
    },
    {
     "name": "stdout",
     "output_type": "stream",
     "text": [
      "Gradient Boosting Best Score: 89.16\n",
      "And Best Parameters: {'learning_rate': 0.5, 'max_depth': 4, 'n_estimators': 405, 'random_state': 0}\n"
     ]
    }
   ],
   "source": [
    "tune_hyperparameters(gb_model, param_grid=gb_params)\n",
    "gb_tuned_parameters, gb_tuned_score =  tuned_parameters, tuned_score\n",
    "print('Gradient Boosting Best Score:', gb_tuned_score)\n",
    "print('And Best Parameters:', gb_tuned_parameters)"
   ]
  },
  {
   "cell_type": "markdown",
   "metadata": {},
   "source": [
    "### Decision Tree"
   ]
  },
  {
   "cell_type": "code",
   "execution_count": 59,
   "metadata": {},
   "outputs": [
    {
     "name": "stdout",
     "output_type": "stream",
     "text": [
      "Fitting 10 folds for each of 36 candidates, totalling 360 fits\n"
     ]
    },
    {
     "name": "stderr",
     "output_type": "stream",
     "text": [
      "[Parallel(n_jobs=-1)]: Done 100 tasks      | elapsed:   13.3s\n"
     ]
    },
    {
     "name": "stdout",
     "output_type": "stream",
     "text": [
      "Decision Tree Best Score: 86.3\n",
      "And Best Parameters: {'max_features': 'auto', 'min_samples_leaf': 1, 'min_samples_split': 15, 'random_state': 46}\n"
     ]
    },
    {
     "name": "stderr",
     "output_type": "stream",
     "text": [
      "[Parallel(n_jobs=-1)]: Done 360 out of 360 | elapsed:   13.6s finished\n"
     ]
    }
   ],
   "source": [
    "tune_hyperparameters(dt_model, param_grid=dt_params)\n",
    "dt_tuned_parameters, dt_tuned_score =  tuned_parameters, tuned_score\n",
    "print('Decision Tree Best Score:', dt_tuned_score)\n",
    "print('And Best Parameters:', dt_tuned_parameters)"
   ]
  },
  {
   "cell_type": "markdown",
   "metadata": {},
   "source": [
    "### Random Forest"
   ]
  },
  {
   "cell_type": "code",
   "execution_count": 60,
   "metadata": {},
   "outputs": [
    {
     "name": "stdout",
     "output_type": "stream",
     "text": [
      "Fitting 10 folds for each of 972 candidates, totalling 9720 fits\n"
     ]
    },
    {
     "name": "stderr",
     "output_type": "stream",
     "text": [
      "[Parallel(n_jobs=-1)]: Done  96 tasks      | elapsed:   16.4s\n",
      "[Parallel(n_jobs=-1)]: Done 256 tasks      | elapsed:   30.0s\n",
      "[Parallel(n_jobs=-1)]: Done 480 tasks      | elapsed:   49.7s\n",
      "[Parallel(n_jobs=-1)]: Done 768 tasks      | elapsed:  1.2min\n",
      "[Parallel(n_jobs=-1)]: Done 1120 tasks      | elapsed:  1.7min\n",
      "[Parallel(n_jobs=-1)]: Done 1536 tasks      | elapsed:  2.3min\n",
      "[Parallel(n_jobs=-1)]: Done 2016 tasks      | elapsed:  3.4min\n",
      "[Parallel(n_jobs=-1)]: Done 2560 tasks      | elapsed:  4.7min\n",
      "[Parallel(n_jobs=-1)]: Done 3168 tasks      | elapsed:  5.8min\n",
      "[Parallel(n_jobs=-1)]: Done 3840 tasks      | elapsed:  7.9min\n",
      "[Parallel(n_jobs=-1)]: Done 4576 tasks      | elapsed:  9.9min\n",
      "[Parallel(n_jobs=-1)]: Done 5376 tasks      | elapsed: 11.1min\n",
      "[Parallel(n_jobs=-1)]: Done 6240 tasks      | elapsed: 12.4min\n",
      "[Parallel(n_jobs=-1)]: Done 7168 tasks      | elapsed: 14.4min\n",
      "[Parallel(n_jobs=-1)]: Done 8160 tasks      | elapsed: 16.5min\n",
      "[Parallel(n_jobs=-1)]: Done 9216 tasks      | elapsed: 19.6min\n",
      "[Parallel(n_jobs=-1)]: Done 9720 out of 9720 | elapsed: 20.5min finished\n"
     ]
    },
    {
     "name": "stdout",
     "output_type": "stream",
     "text": [
      "Decision Tree Best Score: 89.16\n",
      "And Best Parameters: {'criterion': 'gini', 'max_depth': 22, 'max_features': 'sqrt', 'min_samples_leaf': 1, 'min_samples_split': 13, 'n_estimators': 450, 'random_state': 46}\n"
     ]
    }
   ],
   "source": [
    "tune_hyperparameters(rf_model, param_grid=rf_params)\n",
    "rf_tuned_parameters, rf_tuned_score =  tuned_parameters, tuned_score\n",
    "print('Decision Tree Best Score:', rf_tuned_score)\n",
    "print('And Best Parameters:', rf_tuned_parameters)"
   ]
  },
  {
   "cell_type": "markdown",
   "metadata": {},
   "source": [
    "### Linear SVM"
   ]
  },
  {
   "cell_type": "code",
   "execution_count": 61,
   "metadata": {},
   "outputs": [
    {
     "name": "stdout",
     "output_type": "stream",
     "text": [
      "Fitting 10 folds for each of 16 candidates, totalling 160 fits\n"
     ]
    },
    {
     "name": "stderr",
     "output_type": "stream",
     "text": [
      "[Parallel(n_jobs=-1)]: Done  96 tasks      | elapsed:   11.5s\n"
     ]
    },
    {
     "name": "stdout",
     "output_type": "stream",
     "text": [
      "SVM Best Score: 88.96\n",
      "And Best Parameters: {'C': 1, 'gamma': 1}\n"
     ]
    },
    {
     "name": "stderr",
     "output_type": "stream",
     "text": [
      "[Parallel(n_jobs=-1)]: Done 160 out of 160 | elapsed:   12.2s finished\n"
     ]
    }
   ],
   "source": [
    "tune_hyperparameters(svc_model, param_grid=svc_params)\n",
    "svc_tuned_parameters, svc_tuned_score =  tuned_parameters, tuned_score\n",
    "print('SVM Best Score:', svc_tuned_score)\n",
    "print('And Best Parameters:', svc_tuned_parameters)"
   ]
  },
  {
   "cell_type": "markdown",
   "metadata": {},
   "source": [
    "### Extra Tree"
   ]
  },
  {
   "cell_type": "code",
   "execution_count": 62,
   "metadata": {},
   "outputs": [
    {
     "name": "stdout",
     "output_type": "stream",
     "text": [
      "Fitting 10 folds for each of 18 candidates, totalling 180 fits\n"
     ]
    },
    {
     "name": "stderr",
     "output_type": "stream",
     "text": [
      "[Parallel(n_jobs=-1)]: Done  96 tasks      | elapsed:   25.4s\n",
      "[Parallel(n_jobs=-1)]: Done 180 out of 180 | elapsed:   41.5s finished\n"
     ]
    },
    {
     "name": "stdout",
     "output_type": "stream",
     "text": [
      "Extra Trees Best Score: 90.05\n",
      "And Best Parameters: {'max_features': 'auto', 'min_samples_split': 25, 'n_estimators': 145, 'random_state': 0}\n"
     ]
    }
   ],
   "source": [
    "tune_hyperparameters(extree_model, param_grid=extree_params)\n",
    "extree_tuned_parameters, extree_tuned_score =  tuned_parameters, tuned_score\n",
    "print('Extra Trees Best Score:', extree_tuned_score)\n",
    "print('And Best Parameters:', extree_tuned_parameters)"
   ]
  },
  {
   "cell_type": "code",
   "execution_count": 63,
   "metadata": {},
   "outputs": [
    {
     "data": {
      "text/html": [
       "<div>\n",
       "<style scoped>\n",
       "    .dataframe tbody tr th:only-of-type {\n",
       "        vertical-align: middle;\n",
       "    }\n",
       "\n",
       "    .dataframe tbody tr th {\n",
       "        vertical-align: top;\n",
       "    }\n",
       "\n",
       "    .dataframe thead th {\n",
       "        text-align: right;\n",
       "    }\n",
       "</style>\n",
       "<table border=\"1\" class=\"dataframe\">\n",
       "  <thead>\n",
       "    <tr style=\"text-align: right;\">\n",
       "      <th></th>\n",
       "      <th>Tuned_score(%)</th>\n",
       "    </tr>\n",
       "  </thead>\n",
       "  <tbody>\n",
       "    <tr>\n",
       "      <th>Extra Tress</th>\n",
       "      <td>90.05</td>\n",
       "    </tr>\n",
       "    <tr>\n",
       "      <th>Logistic Regression</th>\n",
       "      <td>89.23</td>\n",
       "    </tr>\n",
       "    <tr>\n",
       "      <th>Gradient Boosting</th>\n",
       "      <td>89.16</td>\n",
       "    </tr>\n",
       "    <tr>\n",
       "      <th>Random Forest</th>\n",
       "      <td>89.16</td>\n",
       "    </tr>\n",
       "    <tr>\n",
       "      <th>SVC</th>\n",
       "      <td>88.96</td>\n",
       "    </tr>\n",
       "    <tr>\n",
       "      <th>Decision Tree</th>\n",
       "      <td>86.30</td>\n",
       "    </tr>\n",
       "  </tbody>\n",
       "</table>\n",
       "</div>"
      ],
      "text/plain": [
       "                     Tuned_score(%)\n",
       "Extra Tress                   90.05\n",
       "Logistic Regression           89.23\n",
       "Gradient Boosting             89.16\n",
       "Random Forest                 89.16\n",
       "SVC                           88.96\n",
       "Decision Tree                 86.30"
      ]
     },
     "execution_count": 63,
     "metadata": {},
     "output_type": "execute_result"
    }
   ],
   "source": [
    "tunned_scores = pd.DataFrame({'Tuned_score(%)': [lr_tuned_score, gb_tuned_score, dt_tuned_score, rf_tuned_score, svc_tuned_score,extree_tuned_score]})\n",
    "tunned_scores.index = ['Logistic Regression', 'Gradient Boosting', 'Decision Tree', 'Random Forest', 'SVC', 'Extra Tress']\n",
    "sorted_tunned_scores = tunned_scores.sort_values(by = 'Tuned_score(%)', ascending = False)\n",
    "sorted_tunned_scores\n",
    "\n"
   ]
  },
  {
   "cell_type": "code",
   "execution_count": 64,
   "metadata": {},
   "outputs": [],
   "source": [
    "#initiate the models again with tuned hyper parameters\n",
    "lr_tuned_model  = LogisticRegression(**lr_tuned_parameters)\n",
    "gb_tuned_model = GradientBoostingClassifier(**gb_tuned_parameters)\n",
    "dt_tuned_model  = DecisionTreeClassifier(**dt_tuned_parameters)\n",
    "rf_tuned_model  = RandomForestClassifier(**rf_tuned_parameters)\n",
    "svc_tuned_model = SVC(**svc_tuned_parameters)\n",
    "extree_tuned_model = ExtraTreesClassifier(**extree_tuned_parameters)"
   ]
  },
  {
   "cell_type": "code",
   "execution_count": 65,
   "metadata": {},
   "outputs": [],
   "source": [
    "# Logistinc Regression\n",
    "lr_tuned_model.fit(final_X_train,y_train)\n",
    "lr_tuned_pred = lr_tuned_model.predict(final_X_test)\n",
    "lr_tuned_accuracy = metrics.accuracy_score(y_test,lr_tuned_pred)\n",
    "lr_tuned_matrix = metrics.confusion_matrix(y_test,lr_tuned_pred)\n",
    "lr_tuned_f1_score = metrics.f1_score(y_test,lr_tuned_pred)"
   ]
  },
  {
   "cell_type": "code",
   "execution_count": 66,
   "metadata": {},
   "outputs": [
    {
     "name": "stdout",
     "output_type": "stream",
     "text": [
      "0.8936605316973415\n",
      "0.8934426229508197\n",
      "[[219  10]\n",
      " [ 42 218]]\n"
     ]
    }
   ],
   "source": [
    "print(lr_tuned_accuracy)\n",
    "print(lr_tuned_f1_score)\n",
    "print(lr_tuned_matrix)\n"
   ]
  },
  {
   "cell_type": "code",
   "execution_count": 67,
   "metadata": {},
   "outputs": [],
   "source": [
    "# Gradient Boosting\n",
    "gb_tuned_model.fit(final_X_train,y_train)\n",
    "gb_tuned_pred = gb_tuned_model.predict(final_X_test)\n",
    "gb_tuned_accuracy = metrics.accuracy_score(y_test,gb_tuned_pred)\n",
    "gb_tuned_matrix = metrics.confusion_matrix(y_test,gb_tuned_pred)\n",
    "gb_tuned_f1_score = metrics.f1_score(y_test,gb_tuned_pred)"
   ]
  },
  {
   "cell_type": "code",
   "execution_count": 68,
   "metadata": {},
   "outputs": [
    {
     "name": "stdout",
     "output_type": "stream",
     "text": [
      "0.8834355828220859\n",
      "0.8819875776397516\n",
      "[[219  10]\n",
      " [ 47 213]]\n"
     ]
    }
   ],
   "source": [
    "print(gb_tuned_accuracy)\n",
    "print(gb_tuned_f1_score)\n",
    "print(gb_tuned_matrix)\n"
   ]
  },
  {
   "cell_type": "code",
   "execution_count": 69,
   "metadata": {},
   "outputs": [],
   "source": [
    "# Decision Tree\n",
    "dt_tuned_model.fit(final_X_train,y_train)\n",
    "dt_tuned_pred = dt_tuned_model.predict(final_X_test)\n",
    "dt_tuned_accuracy = metrics.accuracy_score(y_test,dt_tuned_pred)\n",
    "dt_tuned_matrix = metrics.confusion_matrix(y_test,dt_tuned_pred)\n",
    "dt_tuned_f1_score = metrics.f1_score(y_test,dt_tuned_pred)"
   ]
  },
  {
   "cell_type": "code",
   "execution_count": 70,
   "metadata": {},
   "outputs": [
    {
     "name": "stdout",
     "output_type": "stream",
     "text": [
      "0.8507157464212679\n",
      "0.8548707753479126\n",
      "[[201  28]\n",
      " [ 45 215]]\n"
     ]
    }
   ],
   "source": [
    "print(dt_tuned_accuracy)\n",
    "print(dt_tuned_f1_score)\n",
    "print(dt_tuned_matrix)"
   ]
  },
  {
   "cell_type": "code",
   "execution_count": 71,
   "metadata": {},
   "outputs": [],
   "source": [
    "# Random Forest\n",
    "rf_tuned_model.fit(final_X_train,y_train)\n",
    "rf_tuned_pred = rf_tuned_model.predict(final_X_test)\n",
    "rf_tuned_accuracy = metrics.accuracy_score(y_test,rf_tuned_pred)\n",
    "rf_tuned_matrix = metrics.confusion_matrix(y_test,rf_tuned_pred)\n",
    "rf_tuned_f1_score = metrics.f1_score(y_test,rf_tuned_pred)"
   ]
  },
  {
   "cell_type": "code",
   "execution_count": 72,
   "metadata": {},
   "outputs": [
    {
     "name": "stdout",
     "output_type": "stream",
     "text": [
      "0.8997955010224948\n",
      "0.8977035490605427\n",
      "[[225   4]\n",
      " [ 45 215]]\n"
     ]
    }
   ],
   "source": [
    "print(rf_tuned_accuracy)\n",
    "print(rf_tuned_f1_score)\n",
    "print(rf_tuned_matrix)"
   ]
  },
  {
   "cell_type": "code",
   "execution_count": 73,
   "metadata": {},
   "outputs": [],
   "source": [
    "#SVM\n",
    "svc_tuned_model.fit(final_X_train,y_train)\n",
    "svc_tuned_pred = svc_tuned_model.predict(final_X_test)\n",
    "svc_tuned_accuracy = metrics.accuracy_score(y_test,svc_tuned_pred)\n",
    "svc_tuned_matrix = metrics.confusion_matrix(y_test,svc_tuned_pred)\n",
    "svc_tuned_f1_score = metrics.f1_score(y_test,svc_tuned_pred)"
   ]
  },
  {
   "cell_type": "code",
   "execution_count": 74,
   "metadata": {},
   "outputs": [
    {
     "name": "stdout",
     "output_type": "stream",
     "text": [
      "0.8957055214723927\n",
      "0.8944099378881988\n",
      "[[222   7]\n",
      " [ 44 216]]\n"
     ]
    }
   ],
   "source": [
    "print(svc_tuned_accuracy)\n",
    "print(svc_tuned_f1_score)\n",
    "print(svc_tuned_matrix)"
   ]
  },
  {
   "cell_type": "code",
   "execution_count": 75,
   "metadata": {},
   "outputs": [],
   "source": [
    "# Extra tree\n",
    "extree_tuned_model.fit(final_X_train,y_train)\n",
    "extree_tuned_pred = extree_tuned_model.predict(final_X_test)\n",
    "extree_tuned_accuracy = metrics.accuracy_score(y_test,extree_tuned_pred)\n",
    "extree_tuned_matrix = metrics.confusion_matrix(y_test,extree_tuned_pred)\n",
    "extree_tuned_f1_score = metrics.f1_score(y_test,extree_tuned_pred)"
   ]
  },
  {
   "cell_type": "code",
   "execution_count": 76,
   "metadata": {},
   "outputs": [
    {
     "name": "stdout",
     "output_type": "stream",
     "text": [
      "0.8977505112474438\n",
      "0.8975409836065574\n",
      "[[220   9]\n",
      " [ 41 219]]\n"
     ]
    }
   ],
   "source": [
    "print(extree_tuned_accuracy)\n",
    "print(extree_tuned_f1_score)\n",
    "print(extree_tuned_matrix)"
   ]
  },
  {
   "cell_type": "code",
   "execution_count": 77,
   "metadata": {},
   "outputs": [],
   "source": [
    "accuracy_before_tunning=[lr_accuracy,gb_accuracy,rf_accuracy,svc_accuracy,dt_accuracy,extree_accuracy]\n",
    "accuracy_after_tunning=[lr_tuned_accuracy,gb_tuned_accuracy,rf_tuned_accuracy,svc_tuned_accuracy,\n",
    "                        dt_tuned_accuracy,extree_tuned_accuracy]\n"
   ]
  },
  {
   "cell_type": "code",
   "execution_count": 78,
   "metadata": {},
   "outputs": [
    {
     "data": {
      "image/png": "[encoded data removed]",
      "text/plain": [
       "<Figure size 576x432 with 1 Axes>"
      ]
     },
     "metadata": {
      "needs_background": "light"
     },
     "output_type": "display_data"
    }
   ],
   "source": [
    "fig=plt.figure(figsize=(8,6))\n",
    "ax = fig.add_subplot(111)\n",
    "width =0.4\n",
    "\n",
    "N=6\n",
    "ind = np.arange(N)\n",
    "\n",
    "plt.bar(ind,accuracy_before_tunning,width=width,color=\"purple\",label='Before tuning')\n",
    "plt.bar(ind+width,accuracy_after_tunning,width=width,color=\"y\",label='After tuning')\n",
    "\n",
    "plt.xticks(ind + width / 2, ('Logistic \\n Regression','Gradient\\n Boosting','Random\\n Forest','SVM','Decision Tree',\n",
    "           'Extra Trees'))\n",
    "plt.legend(loc='best')\n",
    "\n",
    "plt.show()"
   ]
  },
  {
   "cell_type": "code",
   "execution_count": null,
   "metadata": {},
   "outputs": [],
   "source": []
  }
 ],
 "metadata": {
  "kernelspec": {
   "display_name": "Python 3",
   "language": "python",
   "name": "python3"
  },
  "language_info": {
   "codemirror_mode": {
    "name": "ipython",
    "version": 3
   },
   "file_extension": ".py",
   "mimetype": "text/x-python",
   "name": "python",
   "nbconvert_exporter": "python",
   "pygments_lexer": "ipython3",
   "version": "3.7.0"
  }
 },
 "nbformat": 4,
 "nbformat_minor": 4
}
